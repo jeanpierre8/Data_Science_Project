{
 "cells": [
  {
   "cell_type": "code",
   "execution_count": null,
   "metadata": {
    "cell_id": "00000-ca550224-e10b-4628-8a6e-b50c5851e898",
    "deepnote_cell_type": "code",
    "deepnote_to_be_reexecuted": false,
    "execution_millis": 2964,
    "execution_start": 1609945549208,
    "source_hash": "1806c78a",
    "tags": []
   },
   "outputs": [
    {
     "name": "stdout",
     "output_type": "stream",
     "text": [
      "\u001b[33mWARNING: The directory '/home/jovyan/.cache/pip' or its parent directory is not owned or is not writable by the current user. The cache has been disabled. Check the permissions and owner of that directory. If executing pip with sudo, you may want sudo's -H flag.\u001b[0m\n",
      "Requirement already satisfied: missingno in /opt/venv/lib/python3.7/site-packages (0.4.2)\n",
      "Requirement already satisfied: numpy in /opt/venv/lib/python3.7/site-packages (from missingno) (1.19.4)\n",
      "Requirement already satisfied: matplotlib in /opt/venv/lib/python3.7/site-packages (from missingno) (3.3.3)\n",
      "Requirement already satisfied: scipy in /opt/venv/lib/python3.7/site-packages (from missingno) (1.5.4)\n",
      "Requirement already satisfied: seaborn in /opt/venv/lib/python3.7/site-packages (from missingno) (0.11.1)\n",
      "Requirement already satisfied: pillow>=6.2.0 in /opt/venv/lib/python3.7/site-packages (from matplotlib->missingno) (8.0.1)\n",
      "Requirement already satisfied: cycler>=0.10 in /opt/venv/lib/python3.7/site-packages (from matplotlib->missingno) (0.10.0)\n",
      "Requirement already satisfied: pyparsing!=2.0.4,!=2.1.2,!=2.1.6,>=2.0.3 in /shared-libs/python3.7/py-core/lib/python3.7/site-packages (from matplotlib->missingno) (2.4.7)\n",
      "Requirement already satisfied: python-dateutil>=2.1 in /shared-libs/python3.7/py-core/lib/python3.7/site-packages (from matplotlib->missingno) (2.8.1)\n",
      "Requirement already satisfied: kiwisolver>=1.0.1 in /opt/venv/lib/python3.7/site-packages (from matplotlib->missingno) (1.3.1)\n",
      "Requirement already satisfied: pandas>=0.23 in /opt/venv/lib/python3.7/site-packages (from seaborn->missingno) (1.0.5)\n",
      "Requirement already satisfied: six in /shared-libs/python3.7/py-core/lib/python3.7/site-packages (from cycler>=0.10->matplotlib->missingno) (1.15.0)\n",
      "Requirement already satisfied: pytz>=2017.2 in /opt/venv/lib/python3.7/site-packages (from pandas>=0.23->seaborn->missingno) (2020.4)\n",
      "\u001b[33mWARNING: You are using pip version 20.2.4; however, version 20.3.3 is available.\n",
      "You should consider upgrading via the '/opt/venv/bin/python -m pip install --upgrade pip' command.\u001b[0m\n",
      "\u001b[33mWARNING: The directory '/home/jovyan/.cache/pip' or its parent directory is not owned or is not writable by the current user. The cache has been disabled. Check the permissions and owner of that directory. If executing pip with sudo, you may want sudo's -H flag.\u001b[0m\n",
      "Collecting pydot\n",
      "  Downloading pydot-1.4.1-py2.py3-none-any.whl (19 kB)\n",
      "Requirement already satisfied: pyparsing>=2.1.4 in /shared-libs/python3.7/py-core/lib/python3.7/site-packages (from pydot) (2.4.7)\n",
      "Installing collected packages: pydot\n",
      "Successfully installed pydot-1.4.1\n",
      "\u001b[33mWARNING: You are using pip version 20.2.4; however, version 20.3.3 is available.\n",
      "You should consider upgrading via the '/opt/venv/bin/python -m pip install --upgrade pip' command.\u001b[0m\n"
     ]
    }
   ],
   "source": [
    "!pip install missingno\n",
    "!pip install pydot"
   ]
  },
  {
   "cell_type": "code",
   "execution_count": null,
   "metadata": {
    "cell_id": "00001-4c2de4ca-84a3-4fc5-b392-535f1b43cd74",
    "deepnote_cell_type": "code",
    "deepnote_to_be_reexecuted": false,
    "execution_millis": 3258,
    "execution_start": 1609945664423,
    "source_hash": "809bcbb3",
    "tags": []
   },
   "outputs": [],
   "source": [
    "import pandas as pd\n",
    "from math import sqrt\n",
    "import seaborn as sns\n",
    "import matplotlib.pyplot as plt\n",
    "import missingno as msno \n",
    "from sklearn.model_selection import train_test_split\n",
    "from sklearn.metrics import accuracy_score, precision_score, recall_score, confusion_matrix, mean_absolute_error, mean_squared_error, r2_score\n",
    "from sklearn.preprocessing import RobustScaler\n",
    "from sklearn.linear_model import LinearRegression\n",
    "from sklearn.linear_model import LogisticRegression\n",
    "from sklearn import svm\n",
    "from sklearn.ensemble import RandomForestClassifier\n",
    "from sklearn.tree import export_graphviz\n",
    "import pydot\n",
    "from tensorflow.keras import Sequential\n",
    "from tensorflow.keras.layers import Dense\n",
    "from tensorflow.keras.losses import CategoricalCrossentropy\n",
    "from sklearn.neural_network import MLPClassifier\n",
    "import numpy as np\n"
   ]
  },
  {
   "cell_type": "code",
   "execution_count": null,
   "metadata": {
    "cell_id": "00002-b0c77c38-f6a1-45dd-91cc-7651957aaf53",
    "deepnote_cell_type": "code",
    "deepnote_to_be_reexecuted": false,
    "execution_millis": 235,
    "execution_start": 1609945672692,
    "source_hash": "579ce1f5",
    "tags": []
   },
   "outputs": [
    {
     "data": {
      "application/vnd.deepnote.dataframe.v2+json": {
       "column_count": 25,
       "columns": [
        {
         "dtype": "int64",
         "name": "ID",
         "stats": {
          "histogram": [
           {
            "bin_end": 1.4,
            "bin_start": 1,
            "count": 1
           },
           {
            "bin_end": 1.8,
            "bin_start": 1.4,
            "count": 0
           },
           {
            "bin_end": 2.2,
            "bin_start": 1.8,
            "count": 1
           },
           {
            "bin_end": 2.6,
            "bin_start": 2.2,
            "count": 0
           },
           {
            "bin_end": 3,
            "bin_start": 2.6,
            "count": 0
           },
           {
            "bin_end": 3.4000000000000004,
            "bin_start": 3,
            "count": 1
           },
           {
            "bin_end": 3.8000000000000003,
            "bin_start": 3.4000000000000004,
            "count": 0
           },
           {
            "bin_end": 4.2,
            "bin_start": 3.8000000000000003,
            "count": 1
           },
           {
            "bin_end": 4.6,
            "bin_start": 4.2,
            "count": 0
           },
           {
            "bin_end": 5,
            "bin_start": 4.6,
            "count": 1
           }
          ],
          "max": 5,
          "min": 1,
          "nan_count": 0,
          "unique_count": 5
         }
        },
        {
         "dtype": "float64",
         "name": "LIMIT_BAL",
         "stats": {
          "histogram": [
           {
            "bin_end": 30000,
            "bin_start": 20000,
            "count": 1
           },
           {
            "bin_end": 40000,
            "bin_start": 30000,
            "count": 0
           },
           {
            "bin_end": 50000,
            "bin_start": 40000,
            "count": 0
           },
           {
            "bin_end": 60000,
            "bin_start": 50000,
            "count": 2
           },
           {
            "bin_end": 70000,
            "bin_start": 60000,
            "count": 0
           },
           {
            "bin_end": 80000,
            "bin_start": 70000,
            "count": 0
           },
           {
            "bin_end": 90000,
            "bin_start": 80000,
            "count": 0
           },
           {
            "bin_end": 100000,
            "bin_start": 90000,
            "count": 1
           },
           {
            "bin_end": 110000,
            "bin_start": 100000,
            "count": 0
           },
           {
            "bin_end": 120000,
            "bin_start": 110000,
            "count": 1
           }
          ],
          "max": 120000,
          "min": 20000,
          "nan_count": 0,
          "unique_count": 4
         }
        },
        {
         "dtype": "int64",
         "name": "SEX",
         "stats": {
          "histogram": [
           {
            "bin_end": 1.1,
            "bin_start": 1,
            "count": 1
           },
           {
            "bin_end": 1.2,
            "bin_start": 1.1,
            "count": 0
           },
           {
            "bin_end": 1.3,
            "bin_start": 1.2,
            "count": 0
           },
           {
            "bin_end": 1.4,
            "bin_start": 1.3,
            "count": 0
           },
           {
            "bin_end": 1.5,
            "bin_start": 1.4,
            "count": 0
           },
           {
            "bin_end": 1.6,
            "bin_start": 1.5,
            "count": 0
           },
           {
            "bin_end": 1.7000000000000002,
            "bin_start": 1.6,
            "count": 0
           },
           {
            "bin_end": 1.8,
            "bin_start": 1.7000000000000002,
            "count": 0
           },
           {
            "bin_end": 1.9,
            "bin_start": 1.8,
            "count": 0
           },
           {
            "bin_end": 2,
            "bin_start": 1.9,
            "count": 4
           }
          ],
          "max": 2,
          "min": 1,
          "nan_count": 0,
          "unique_count": 2
         }
        },
        {
         "dtype": "int64",
         "name": "EDUCATION",
         "stats": {
          "histogram": [
           {
            "bin_end": 1.6,
            "bin_start": 1.5,
            "count": 0
           },
           {
            "bin_end": 1.7,
            "bin_start": 1.6,
            "count": 0
           },
           {
            "bin_end": 1.8,
            "bin_start": 1.7,
            "count": 0
           },
           {
            "bin_end": 1.9,
            "bin_start": 1.8,
            "count": 0
           },
           {
            "bin_end": 2,
            "bin_start": 1.9,
            "count": 0
           },
           {
            "bin_end": 2.1,
            "bin_start": 2,
            "count": 5
           },
           {
            "bin_end": 2.2,
            "bin_start": 2.1,
            "count": 0
           },
           {
            "bin_end": 2.3,
            "bin_start": 2.2,
            "count": 0
           },
           {
            "bin_end": 2.4,
            "bin_start": 2.3,
            "count": 0
           },
           {
            "bin_end": 2.5,
            "bin_start": 2.4,
            "count": 0
           }
          ],
          "max": 2,
          "min": 2,
          "nan_count": 0,
          "unique_count": 1
         }
        },
        {
         "dtype": "int64",
         "name": "MARRIAGE",
         "stats": {
          "histogram": [
           {
            "bin_end": 1.1,
            "bin_start": 1,
            "count": 3
           },
           {
            "bin_end": 1.2,
            "bin_start": 1.1,
            "count": 0
           },
           {
            "bin_end": 1.3,
            "bin_start": 1.2,
            "count": 0
           },
           {
            "bin_end": 1.4,
            "bin_start": 1.3,
            "count": 0
           },
           {
            "bin_end": 1.5,
            "bin_start": 1.4,
            "count": 0
           },
           {
            "bin_end": 1.6,
            "bin_start": 1.5,
            "count": 0
           },
           {
            "bin_end": 1.7000000000000002,
            "bin_start": 1.6,
            "count": 0
           },
           {
            "bin_end": 1.8,
            "bin_start": 1.7000000000000002,
            "count": 0
           },
           {
            "bin_end": 1.9,
            "bin_start": 1.8,
            "count": 0
           },
           {
            "bin_end": 2,
            "bin_start": 1.9,
            "count": 2
           }
          ],
          "max": 2,
          "min": 1,
          "nan_count": 0,
          "unique_count": 2
         }
        },
        {
         "dtype": "int64",
         "name": "AGE",
         "stats": {
          "histogram": [
           {
            "bin_end": 27.3,
            "bin_start": 24,
            "count": 2
           },
           {
            "bin_end": 30.6,
            "bin_start": 27.3,
            "count": 0
           },
           {
            "bin_end": 33.9,
            "bin_start": 30.6,
            "count": 0
           },
           {
            "bin_end": 37.2,
            "bin_start": 33.9,
            "count": 2
           },
           {
            "bin_end": 40.5,
            "bin_start": 37.2,
            "count": 0
           },
           {
            "bin_end": 43.8,
            "bin_start": 40.5,
            "count": 0
           },
           {
            "bin_end": 47.099999999999994,
            "bin_start": 43.8,
            "count": 0
           },
           {
            "bin_end": 50.4,
            "bin_start": 47.099999999999994,
            "count": 0
           },
           {
            "bin_end": 53.7,
            "bin_start": 50.4,
            "count": 0
           },
           {
            "bin_end": 57,
            "bin_start": 53.7,
            "count": 1
           }
          ],
          "max": 57,
          "min": 24,
          "nan_count": 0,
          "unique_count": 5
         }
        },
        {
         "dtype": "int64",
         "name": "PAY_0",
         "stats": {
          "histogram": [
           {
            "bin_end": -0.7,
            "bin_start": -1,
            "count": 2
           },
           {
            "bin_end": -0.4,
            "bin_start": -0.7,
            "count": 0
           },
           {
            "bin_end": -0.10000000000000009,
            "bin_start": -0.4,
            "count": 0
           },
           {
            "bin_end": 0.19999999999999996,
            "bin_start": -0.10000000000000009,
            "count": 2
           },
           {
            "bin_end": 0.5,
            "bin_start": 0.19999999999999996,
            "count": 0
           },
           {
            "bin_end": 0.7999999999999998,
            "bin_start": 0.5,
            "count": 0
           },
           {
            "bin_end": 1.1,
            "bin_start": 0.7999999999999998,
            "count": 0
           },
           {
            "bin_end": 1.4,
            "bin_start": 1.1,
            "count": 0
           },
           {
            "bin_end": 1.6999999999999997,
            "bin_start": 1.4,
            "count": 0
           },
           {
            "bin_end": 2,
            "bin_start": 1.6999999999999997,
            "count": 1
           }
          ],
          "max": 2,
          "min": -1,
          "nan_count": 0,
          "unique_count": 3
         }
        },
        {
         "dtype": "int64",
         "name": "PAY_2",
         "stats": {
          "histogram": [
           {
            "bin_end": 0.2,
            "bin_start": 0,
            "count": 3
           },
           {
            "bin_end": 0.4,
            "bin_start": 0.2,
            "count": 0
           },
           {
            "bin_end": 0.6000000000000001,
            "bin_start": 0.4,
            "count": 0
           },
           {
            "bin_end": 0.8,
            "bin_start": 0.6000000000000001,
            "count": 0
           },
           {
            "bin_end": 1,
            "bin_start": 0.8,
            "count": 0
           },
           {
            "bin_end": 1.2000000000000002,
            "bin_start": 1,
            "count": 0
           },
           {
            "bin_end": 1.4000000000000001,
            "bin_start": 1.2000000000000002,
            "count": 0
           },
           {
            "bin_end": 1.6,
            "bin_start": 1.4000000000000001,
            "count": 0
           },
           {
            "bin_end": 1.8,
            "bin_start": 1.6,
            "count": 0
           },
           {
            "bin_end": 2,
            "bin_start": 1.8,
            "count": 2
           }
          ],
          "max": 2,
          "min": 0,
          "nan_count": 0,
          "unique_count": 2
         }
        },
        {
         "dtype": "int64",
         "name": "PAY_3",
         "stats": {
          "histogram": [
           {
            "bin_end": -0.9,
            "bin_start": -1,
            "count": 2
           },
           {
            "bin_end": -0.8,
            "bin_start": -0.9,
            "count": 0
           },
           {
            "bin_end": -0.7,
            "bin_start": -0.8,
            "count": 0
           },
           {
            "bin_end": -0.6,
            "bin_start": -0.7,
            "count": 0
           },
           {
            "bin_end": -0.5,
            "bin_start": -0.6,
            "count": 0
           },
           {
            "bin_end": -0.3999999999999999,
            "bin_start": -0.5,
            "count": 0
           },
           {
            "bin_end": -0.29999999999999993,
            "bin_start": -0.3999999999999999,
            "count": 0
           },
           {
            "bin_end": -0.19999999999999996,
            "bin_start": -0.29999999999999993,
            "count": 0
           },
           {
            "bin_end": -0.09999999999999998,
            "bin_start": -0.19999999999999996,
            "count": 0
           },
           {
            "bin_end": 0,
            "bin_start": -0.09999999999999998,
            "count": 3
           }
          ],
          "max": 0,
          "min": -1,
          "nan_count": 0,
          "unique_count": 2
         }
        },
        {
         "dtype": "int64",
         "name": "PAY_4",
         "stats": {
          "histogram": [
           {
            "bin_end": -0.9,
            "bin_start": -1,
            "count": 1
           },
           {
            "bin_end": -0.8,
            "bin_start": -0.9,
            "count": 0
           },
           {
            "bin_end": -0.7,
            "bin_start": -0.8,
            "count": 0
           },
           {
            "bin_end": -0.6,
            "bin_start": -0.7,
            "count": 0
           },
           {
            "bin_end": -0.5,
            "bin_start": -0.6,
            "count": 0
           },
           {
            "bin_end": -0.3999999999999999,
            "bin_start": -0.5,
            "count": 0
           },
           {
            "bin_end": -0.29999999999999993,
            "bin_start": -0.3999999999999999,
            "count": 0
           },
           {
            "bin_end": -0.19999999999999996,
            "bin_start": -0.29999999999999993,
            "count": 0
           },
           {
            "bin_end": -0.09999999999999998,
            "bin_start": -0.19999999999999996,
            "count": 0
           },
           {
            "bin_end": 0,
            "bin_start": -0.09999999999999998,
            "count": 4
           }
          ],
          "max": 0,
          "min": -1,
          "nan_count": 0,
          "unique_count": 2
         }
        },
        {
         "dtype": "int64",
         "name": "PAY_5",
         "stats": {
          "histogram": [
           {
            "bin_end": -1.8,
            "bin_start": -2,
            "count": 1
           },
           {
            "bin_end": -1.6,
            "bin_start": -1.8,
            "count": 0
           },
           {
            "bin_end": -1.4,
            "bin_start": -1.6,
            "count": 0
           },
           {
            "bin_end": -1.2,
            "bin_start": -1.4,
            "count": 0
           },
           {
            "bin_end": -1,
            "bin_start": -1.2,
            "count": 0
           },
           {
            "bin_end": -0.7999999999999998,
            "bin_start": -1,
            "count": 0
           },
           {
            "bin_end": -0.5999999999999999,
            "bin_start": -0.7999999999999998,
            "count": 0
           },
           {
            "bin_end": -0.3999999999999999,
            "bin_start": -0.5999999999999999,
            "count": 0
           },
           {
            "bin_end": -0.19999999999999996,
            "bin_start": -0.3999999999999999,
            "count": 0
           },
           {
            "bin_end": 0,
            "bin_start": -0.19999999999999996,
            "count": 4
           }
          ],
          "max": 0,
          "min": -2,
          "nan_count": 0,
          "unique_count": 2
         }
        },
        {
         "dtype": "int64",
         "name": "PAY_6",
         "stats": {
          "histogram": [
           {
            "bin_end": -1.6,
            "bin_start": -2,
            "count": 1
           },
           {
            "bin_end": -1.2,
            "bin_start": -1.6,
            "count": 0
           },
           {
            "bin_end": -0.7999999999999998,
            "bin_start": -1.2,
            "count": 0
           },
           {
            "bin_end": -0.3999999999999999,
            "bin_start": -0.7999999999999998,
            "count": 0
           },
           {
            "bin_end": 0,
            "bin_start": -0.3999999999999999,
            "count": 0
           },
           {
            "bin_end": 0.40000000000000036,
            "bin_start": 0,
            "count": 3
           },
           {
            "bin_end": 0.8000000000000003,
            "bin_start": 0.40000000000000036,
            "count": 0
           },
           {
            "bin_end": 1.2000000000000002,
            "bin_start": 0.8000000000000003,
            "count": 0
           },
           {
            "bin_end": 1.6,
            "bin_start": 1.2000000000000002,
            "count": 0
           },
           {
            "bin_end": 2,
            "bin_start": 1.6,
            "count": 1
           }
          ],
          "max": 2,
          "min": -2,
          "nan_count": 0,
          "unique_count": 3
         }
        },
        {
         "dtype": "float64",
         "name": "BILL_AMT1",
         "stats": {
          "histogram": [
           {
            "bin_end": 7112.8,
            "bin_start": 2682,
            "count": 2
           },
           {
            "bin_end": 11543.6,
            "bin_start": 7112.8,
            "count": 1
           },
           {
            "bin_end": 15974.400000000001,
            "bin_start": 11543.6,
            "count": 0
           },
           {
            "bin_end": 20405.2,
            "bin_start": 15974.400000000001,
            "count": 0
           },
           {
            "bin_end": 24836,
            "bin_start": 20405.2,
            "count": 0
           },
           {
            "bin_end": 29266.800000000003,
            "bin_start": 24836,
            "count": 1
           },
           {
            "bin_end": 33697.600000000006,
            "bin_start": 29266.800000000003,
            "count": 0
           },
           {
            "bin_end": 38128.4,
            "bin_start": 33697.600000000006,
            "count": 0
           },
           {
            "bin_end": 42559.200000000004,
            "bin_start": 38128.4,
            "count": 0
           },
           {
            "bin_end": 46990,
            "bin_start": 42559.200000000004,
            "count": 1
           }
          ],
          "max": 46990,
          "min": 2682,
          "nan_count": 0,
          "unique_count": 5
         }
        },
        {
         "dtype": "float64",
         "name": "BILL_AMT2",
         "stats": {
          "histogram": [
           {
            "bin_end": 6375.8,
            "bin_start": 1725,
            "count": 3
           },
           {
            "bin_end": 11026.6,
            "bin_start": 6375.8,
            "count": 0
           },
           {
            "bin_end": 15677.400000000001,
            "bin_start": 11026.6,
            "count": 1
           },
           {
            "bin_end": 20328.2,
            "bin_start": 15677.400000000001,
            "count": 0
           },
           {
            "bin_end": 24979,
            "bin_start": 20328.2,
            "count": 0
           },
           {
            "bin_end": 29629.800000000003,
            "bin_start": 24979,
            "count": 0
           },
           {
            "bin_end": 34280.600000000006,
            "bin_start": 29629.800000000003,
            "count": 0
           },
           {
            "bin_end": 38931.4,
            "bin_start": 34280.600000000006,
            "count": 0
           },
           {
            "bin_end": 43582.200000000004,
            "bin_start": 38931.4,
            "count": 0
           },
           {
            "bin_end": 48233,
            "bin_start": 43582.200000000004,
            "count": 1
           }
          ],
          "max": 48233,
          "min": 1725,
          "nan_count": 0,
          "unique_count": 5
         }
        },
        {
         "dtype": "float64",
         "name": "BILL_AMT3",
         "stats": {
          "histogram": [
           {
            "bin_end": 5549.2,
            "bin_start": 689,
            "count": 2
           },
           {
            "bin_end": 10409.4,
            "bin_start": 5549.2,
            "count": 0
           },
           {
            "bin_end": 15269.599999999999,
            "bin_start": 10409.4,
            "count": 1
           },
           {
            "bin_end": 20129.8,
            "bin_start": 15269.599999999999,
            "count": 0
           },
           {
            "bin_end": 24990,
            "bin_start": 20129.8,
            "count": 0
           },
           {
            "bin_end": 29850.199999999997,
            "bin_start": 24990,
            "count": 0
           },
           {
            "bin_end": 34710.4,
            "bin_start": 29850.199999999997,
            "count": 0
           },
           {
            "bin_end": 39570.6,
            "bin_start": 34710.4,
            "count": 1
           },
           {
            "bin_end": 44430.799999999996,
            "bin_start": 39570.6,
            "count": 0
           },
           {
            "bin_end": 49291,
            "bin_start": 44430.799999999996,
            "count": 1
           }
          ],
          "max": 49291,
          "min": 689,
          "nan_count": 0,
          "unique_count": 5
         }
        },
        {
         "dtype": "float64",
         "name": "BILL_AMT4",
         "stats": {
          "histogram": [
           {
            "bin_end": 2831.4,
            "bin_start": 0,
            "count": 1
           },
           {
            "bin_end": 5662.8,
            "bin_start": 2831.4,
            "count": 1
           },
           {
            "bin_end": 8494.2,
            "bin_start": 5662.8,
            "count": 0
           },
           {
            "bin_end": 11325.6,
            "bin_start": 8494.2,
            "count": 0
           },
           {
            "bin_end": 14157,
            "bin_start": 11325.6,
            "count": 0
           },
           {
            "bin_end": 16988.4,
            "bin_start": 14157,
            "count": 1
           },
           {
            "bin_end": 19819.8,
            "bin_start": 16988.4,
            "count": 0
           },
           {
            "bin_end": 22651.2,
            "bin_start": 19819.8,
            "count": 1
           },
           {
            "bin_end": 25482.600000000002,
            "bin_start": 22651.2,
            "count": 0
           },
           {
            "bin_end": 28314,
            "bin_start": 25482.600000000002,
            "count": 1
           }
          ],
          "max": 28314,
          "min": 0,
          "nan_count": 0,
          "unique_count": 5
         }
        },
        {
         "dtype": "float64",
         "name": "BILL_AMT5",
         "stats": {
          "histogram": [
           {
            "bin_end": 2895.9,
            "bin_start": 0,
            "count": 1
           },
           {
            "bin_end": 5791.8,
            "bin_start": 2895.9,
            "count": 1
           },
           {
            "bin_end": 8687.7,
            "bin_start": 5791.8,
            "count": 0
           },
           {
            "bin_end": 11583.6,
            "bin_start": 8687.7,
            "count": 0
           },
           {
            "bin_end": 14479.5,
            "bin_start": 11583.6,
            "count": 0
           },
           {
            "bin_end": 17375.4,
            "bin_start": 14479.5,
            "count": 1
           },
           {
            "bin_end": 20271.3,
            "bin_start": 17375.4,
            "count": 1
           },
           {
            "bin_end": 23167.2,
            "bin_start": 20271.3,
            "count": 0
           },
           {
            "bin_end": 26063.100000000002,
            "bin_start": 23167.2,
            "count": 0
           },
           {
            "bin_end": 28959,
            "bin_start": 26063.100000000002,
            "count": 1
           }
          ],
          "max": 28959,
          "min": 0,
          "nan_count": 0,
          "unique_count": 5
         }
        },
        {
         "dtype": "float64",
         "name": "BILL_AMT6",
         "stats": {
          "histogram": [
           {
            "bin_end": 2954.7,
            "bin_start": 0,
            "count": 1
           },
           {
            "bin_end": 5909.4,
            "bin_start": 2954.7,
            "count": 1
           },
           {
            "bin_end": 8864.099999999999,
            "bin_start": 5909.4,
            "count": 0
           },
           {
            "bin_end": 11818.8,
            "bin_start": 8864.099999999999,
            "count": 0
           },
           {
            "bin_end": 14773.5,
            "bin_start": 11818.8,
            "count": 0
           },
           {
            "bin_end": 17728.199999999997,
            "bin_start": 14773.5,
            "count": 1
           },
           {
            "bin_end": 20682.899999999998,
            "bin_start": 17728.199999999997,
            "count": 1
           },
           {
            "bin_end": 23637.6,
            "bin_start": 20682.899999999998,
            "count": 0
           },
           {
            "bin_end": 26592.3,
            "bin_start": 23637.6,
            "count": 0
           },
           {
            "bin_end": 29547,
            "bin_start": 26592.3,
            "count": 1
           }
          ],
          "max": 29547,
          "min": 0,
          "nan_count": 0,
          "unique_count": 5
         }
        },
        {
         "dtype": "float64",
         "name": "PAY_AMT1",
         "stats": {
          "histogram": [
           {
            "bin_end": 200,
            "bin_start": 0,
            "count": 2
           },
           {
            "bin_end": 400,
            "bin_start": 200,
            "count": 0
           },
           {
            "bin_end": 600,
            "bin_start": 400,
            "count": 0
           },
           {
            "bin_end": 800,
            "bin_start": 600,
            "count": 0
           },
           {
            "bin_end": 1000,
            "bin_start": 800,
            "count": 0
           },
           {
            "bin_end": 1200,
            "bin_start": 1000,
            "count": 0
           },
           {
            "bin_end": 1400,
            "bin_start": 1200,
            "count": 0
           },
           {
            "bin_end": 1600,
            "bin_start": 1400,
            "count": 1
           },
           {
            "bin_end": 1800,
            "bin_start": 1600,
            "count": 0
           },
           {
            "bin_end": 2000,
            "bin_start": 1800,
            "count": 2
           }
          ],
          "max": 2000,
          "min": 0,
          "nan_count": 0,
          "unique_count": 3
         }
        },
        {
         "dtype": "float64",
         "name": "PAY_AMT2",
         "stats": {
          "histogram": [
           {
            "bin_end": 4288.2,
            "bin_start": 689,
            "count": 4
           },
           {
            "bin_end": 7887.4,
            "bin_start": 4288.2,
            "count": 0
           },
           {
            "bin_end": 11486.599999999999,
            "bin_start": 7887.4,
            "count": 0
           },
           {
            "bin_end": 15085.8,
            "bin_start": 11486.599999999999,
            "count": 0
           },
           {
            "bin_end": 18685,
            "bin_start": 15085.8,
            "count": 0
           },
           {
            "bin_end": 22284.199999999997,
            "bin_start": 18685,
            "count": 0
           },
           {
            "bin_end": 25883.399999999998,
            "bin_start": 22284.199999999997,
            "count": 0
           },
           {
            "bin_end": 29482.6,
            "bin_start": 25883.399999999998,
            "count": 0
           },
           {
            "bin_end": 33081.8,
            "bin_start": 29482.6,
            "count": 0
           },
           {
            "bin_end": 36681,
            "bin_start": 33081.8,
            "count": 1
           }
          ],
          "max": 36681,
          "min": 689,
          "nan_count": 0,
          "unique_count": 5
         }
        },
        {
         "dtype": "float64",
         "name": "PAY_AMT3",
         "stats": {
          "histogram": [
           {
            "bin_end": 1000,
            "bin_start": 0,
            "count": 1
           },
           {
            "bin_end": 2000,
            "bin_start": 1000,
            "count": 3
           },
           {
            "bin_end": 3000,
            "bin_start": 2000,
            "count": 0
           },
           {
            "bin_end": 4000,
            "bin_start": 3000,
            "count": 0
           },
           {
            "bin_end": 5000,
            "bin_start": 4000,
            "count": 0
           },
           {
            "bin_end": 6000,
            "bin_start": 5000,
            "count": 0
           },
           {
            "bin_end": 7000,
            "bin_start": 6000,
            "count": 0
           },
           {
            "bin_end": 8000,
            "bin_start": 7000,
            "count": 0
           },
           {
            "bin_end": 9000,
            "bin_start": 8000,
            "count": 0
           },
           {
            "bin_end": 10000,
            "bin_start": 9000,
            "count": 1
           }
          ],
          "max": 10000,
          "min": 0,
          "nan_count": 0,
          "unique_count": 4
         }
        },
        {
         "dtype": "float64",
         "name": "PAY_AMT4",
         "stats": {
          "histogram": [
           {
            "bin_end": 900,
            "bin_start": 0,
            "count": 1
           },
           {
            "bin_end": 1800,
            "bin_start": 900,
            "count": 3
           },
           {
            "bin_end": 2700,
            "bin_start": 1800,
            "count": 0
           },
           {
            "bin_end": 3600,
            "bin_start": 2700,
            "count": 0
           },
           {
            "bin_end": 4500,
            "bin_start": 3600,
            "count": 0
           },
           {
            "bin_end": 5400,
            "bin_start": 4500,
            "count": 0
           },
           {
            "bin_end": 6300,
            "bin_start": 5400,
            "count": 0
           },
           {
            "bin_end": 7200,
            "bin_start": 6300,
            "count": 0
           },
           {
            "bin_end": 8100,
            "bin_start": 7200,
            "count": 0
           },
           {
            "bin_end": 9000,
            "bin_start": 8100,
            "count": 1
           }
          ],
          "max": 9000,
          "min": 0,
          "nan_count": 0,
          "unique_count": 4
         }
        },
        {
         "dtype": "float64",
         "name": "PAY_AMT5",
         "stats": {
          "histogram": [
           {
            "bin_end": 106.9,
            "bin_start": 0,
            "count": 2
           },
           {
            "bin_end": 213.8,
            "bin_start": 106.9,
            "count": 0
           },
           {
            "bin_end": 320.70000000000005,
            "bin_start": 213.8,
            "count": 0
           },
           {
            "bin_end": 427.6,
            "bin_start": 320.70000000000005,
            "count": 0
           },
           {
            "bin_end": 534.5,
            "bin_start": 427.6,
            "count": 0
           },
           {
            "bin_end": 641.4000000000001,
            "bin_start": 534.5,
            "count": 0
           },
           {
            "bin_end": 748.3000000000001,
            "bin_start": 641.4000000000001,
            "count": 1
           },
           {
            "bin_end": 855.2,
            "bin_start": 748.3000000000001,
            "count": 0
           },
           {
            "bin_end": 962.1,
            "bin_start": 855.2,
            "count": 0
           },
           {
            "bin_end": 1069,
            "bin_start": 962.1,
            "count": 2
           }
          ],
          "max": 1069,
          "min": 0,
          "nan_count": 0,
          "unique_count": 4
         }
        },
        {
         "dtype": "float64",
         "name": "PAY_AMT6",
         "stats": {
          "histogram": [
           {
            "bin_end": 500,
            "bin_start": 0,
            "count": 1
           },
           {
            "bin_end": 1000,
            "bin_start": 500,
            "count": 1
           },
           {
            "bin_end": 1500,
            "bin_start": 1000,
            "count": 1
           },
           {
            "bin_end": 2000,
            "bin_start": 1500,
            "count": 0
           },
           {
            "bin_end": 2500,
            "bin_start": 2000,
            "count": 1
           },
           {
            "bin_end": 3000,
            "bin_start": 2500,
            "count": 0
           },
           {
            "bin_end": 3500,
            "bin_start": 3000,
            "count": 0
           },
           {
            "bin_end": 4000,
            "bin_start": 3500,
            "count": 0
           },
           {
            "bin_end": 4500,
            "bin_start": 4000,
            "count": 0
           },
           {
            "bin_end": 5000,
            "bin_start": 4500,
            "count": 1
           }
          ],
          "max": 5000,
          "min": 0,
          "nan_count": 0,
          "unique_count": 5
         }
        },
        {
         "dtype": "int64",
         "name": "default.payment.next.month",
         "stats": {
          "histogram": [
           {
            "bin_end": 0.1,
            "bin_start": 0,
            "count": 3
           },
           {
            "bin_end": 0.2,
            "bin_start": 0.1,
            "count": 0
           },
           {
            "bin_end": 0.30000000000000004,
            "bin_start": 0.2,
            "count": 0
           },
           {
            "bin_end": 0.4,
            "bin_start": 0.30000000000000004,
            "count": 0
           },
           {
            "bin_end": 0.5,
            "bin_start": 0.4,
            "count": 0
           },
           {
            "bin_end": 0.6000000000000001,
            "bin_start": 0.5,
            "count": 0
           },
           {
            "bin_end": 0.7000000000000001,
            "bin_start": 0.6000000000000001,
            "count": 0
           },
           {
            "bin_end": 0.8,
            "bin_start": 0.7000000000000001,
            "count": 0
           },
           {
            "bin_end": 0.9,
            "bin_start": 0.8,
            "count": 0
           },
           {
            "bin_end": 1,
            "bin_start": 0.9,
            "count": 2
           }
          ],
          "max": 1,
          "min": 0,
          "nan_count": 0,
          "unique_count": 2
         }
        },
        {
         "dtype": "int64",
         "name": "_deepnote_index_column"
        }
       ],
       "row_count": 5,
       "rows_bottom": null,
       "rows_top": [
        {
         "AGE": 24,
         "BILL_AMT1": 3913,
         "BILL_AMT2": 3102,
         "BILL_AMT3": 689,
         "BILL_AMT4": 0,
         "BILL_AMT5": 0,
         "BILL_AMT6": 0,
         "EDUCATION": 2,
         "ID": 1,
         "LIMIT_BAL": 20000,
         "MARRIAGE": 1,
         "PAY_0": 2,
         "PAY_2": 2,
         "PAY_3": -1,
         "PAY_4": -1,
         "PAY_5": -2,
         "PAY_6": -2,
         "PAY_AMT1": 0,
         "PAY_AMT2": 689,
         "PAY_AMT3": 0,
         "PAY_AMT4": 0,
         "PAY_AMT5": 0,
         "PAY_AMT6": 0,
         "SEX": 2,
         "_deepnote_index_column": 0,
         "default.payment.next.month": 1
        },
        {
         "AGE": 26,
         "BILL_AMT1": 2682,
         "BILL_AMT2": 1725,
         "BILL_AMT3": 2682,
         "BILL_AMT4": 3272,
         "BILL_AMT5": 3455,
         "BILL_AMT6": 3261,
         "EDUCATION": 2,
         "ID": 2,
         "LIMIT_BAL": 120000,
         "MARRIAGE": 2,
         "PAY_0": -1,
         "PAY_2": 2,
         "PAY_3": 0,
         "PAY_4": 0,
         "PAY_5": 0,
         "PAY_6": 2,
         "PAY_AMT1": 0,
         "PAY_AMT2": 1000,
         "PAY_AMT3": 1000,
         "PAY_AMT4": 1000,
         "PAY_AMT5": 0,
         "PAY_AMT6": 2000,
         "SEX": 2,
         "_deepnote_index_column": 1,
         "default.payment.next.month": 1
        },
        {
         "AGE": 34,
         "BILL_AMT1": 29239,
         "BILL_AMT2": 14027,
         "BILL_AMT3": 13559,
         "BILL_AMT4": 14331,
         "BILL_AMT5": 14948,
         "BILL_AMT6": 15549,
         "EDUCATION": 2,
         "ID": 3,
         "LIMIT_BAL": 90000,
         "MARRIAGE": 2,
         "PAY_0": 0,
         "PAY_2": 0,
         "PAY_3": 0,
         "PAY_4": 0,
         "PAY_5": 0,
         "PAY_6": 0,
         "PAY_AMT1": 1518,
         "PAY_AMT2": 1500,
         "PAY_AMT3": 1000,
         "PAY_AMT4": 1000,
         "PAY_AMT5": 1000,
         "PAY_AMT6": 5000,
         "SEX": 2,
         "_deepnote_index_column": 2,
         "default.payment.next.month": 0
        },
        {
         "AGE": 37,
         "BILL_AMT1": 46990,
         "BILL_AMT2": 48233,
         "BILL_AMT3": 49291,
         "BILL_AMT4": 28314,
         "BILL_AMT5": 28959,
         "BILL_AMT6": 29547,
         "EDUCATION": 2,
         "ID": 4,
         "LIMIT_BAL": 50000,
         "MARRIAGE": 1,
         "PAY_0": 0,
         "PAY_2": 0,
         "PAY_3": 0,
         "PAY_4": 0,
         "PAY_5": 0,
         "PAY_6": 0,
         "PAY_AMT1": 2000,
         "PAY_AMT2": 2019,
         "PAY_AMT3": 1200,
         "PAY_AMT4": 1100,
         "PAY_AMT5": 1069,
         "PAY_AMT6": 1000,
         "SEX": 2,
         "_deepnote_index_column": 3,
         "default.payment.next.month": 0
        },
        {
         "AGE": 57,
         "BILL_AMT1": 8617,
         "BILL_AMT2": 5670,
         "BILL_AMT3": 35835,
         "BILL_AMT4": 20940,
         "BILL_AMT5": 19146,
         "BILL_AMT6": 19131,
         "EDUCATION": 2,
         "ID": 5,
         "LIMIT_BAL": 50000,
         "MARRIAGE": 1,
         "PAY_0": -1,
         "PAY_2": 0,
         "PAY_3": -1,
         "PAY_4": 0,
         "PAY_5": 0,
         "PAY_6": 0,
         "PAY_AMT1": 2000,
         "PAY_AMT2": 36681,
         "PAY_AMT3": 10000,
         "PAY_AMT4": 9000,
         "PAY_AMT5": 689,
         "PAY_AMT6": 679,
         "SEX": 1,
         "_deepnote_index_column": 4,
         "default.payment.next.month": 0
        }
       ]
      },
      "text/html": [
       "<div>\n",
       "<style scoped>\n",
       "    .dataframe tbody tr th:only-of-type {\n",
       "        vertical-align: middle;\n",
       "    }\n",
       "\n",
       "    .dataframe tbody tr th {\n",
       "        vertical-align: top;\n",
       "    }\n",
       "\n",
       "    .dataframe thead th {\n",
       "        text-align: right;\n",
       "    }\n",
       "</style>\n",
       "<table border=\"1\" class=\"dataframe\">\n",
       "  <thead>\n",
       "    <tr style=\"text-align: right;\">\n",
       "      <th></th>\n",
       "      <th>ID</th>\n",
       "      <th>LIMIT_BAL</th>\n",
       "      <th>SEX</th>\n",
       "      <th>EDUCATION</th>\n",
       "      <th>MARRIAGE</th>\n",
       "      <th>AGE</th>\n",
       "      <th>PAY_0</th>\n",
       "      <th>PAY_2</th>\n",
       "      <th>PAY_3</th>\n",
       "      <th>PAY_4</th>\n",
       "      <th>...</th>\n",
       "      <th>BILL_AMT4</th>\n",
       "      <th>BILL_AMT5</th>\n",
       "      <th>BILL_AMT6</th>\n",
       "      <th>PAY_AMT1</th>\n",
       "      <th>PAY_AMT2</th>\n",
       "      <th>PAY_AMT3</th>\n",
       "      <th>PAY_AMT4</th>\n",
       "      <th>PAY_AMT5</th>\n",
       "      <th>PAY_AMT6</th>\n",
       "      <th>default.payment.next.month</th>\n",
       "    </tr>\n",
       "  </thead>\n",
       "  <tbody>\n",
       "    <tr>\n",
       "      <th>0</th>\n",
       "      <td>1</td>\n",
       "      <td>20000.0</td>\n",
       "      <td>2</td>\n",
       "      <td>2</td>\n",
       "      <td>1</td>\n",
       "      <td>24</td>\n",
       "      <td>2</td>\n",
       "      <td>2</td>\n",
       "      <td>-1</td>\n",
       "      <td>-1</td>\n",
       "      <td>...</td>\n",
       "      <td>0.0</td>\n",
       "      <td>0.0</td>\n",
       "      <td>0.0</td>\n",
       "      <td>0.0</td>\n",
       "      <td>689.0</td>\n",
       "      <td>0.0</td>\n",
       "      <td>0.0</td>\n",
       "      <td>0.0</td>\n",
       "      <td>0.0</td>\n",
       "      <td>1</td>\n",
       "    </tr>\n",
       "    <tr>\n",
       "      <th>1</th>\n",
       "      <td>2</td>\n",
       "      <td>120000.0</td>\n",
       "      <td>2</td>\n",
       "      <td>2</td>\n",
       "      <td>2</td>\n",
       "      <td>26</td>\n",
       "      <td>-1</td>\n",
       "      <td>2</td>\n",
       "      <td>0</td>\n",
       "      <td>0</td>\n",
       "      <td>...</td>\n",
       "      <td>3272.0</td>\n",
       "      <td>3455.0</td>\n",
       "      <td>3261.0</td>\n",
       "      <td>0.0</td>\n",
       "      <td>1000.0</td>\n",
       "      <td>1000.0</td>\n",
       "      <td>1000.0</td>\n",
       "      <td>0.0</td>\n",
       "      <td>2000.0</td>\n",
       "      <td>1</td>\n",
       "    </tr>\n",
       "    <tr>\n",
       "      <th>2</th>\n",
       "      <td>3</td>\n",
       "      <td>90000.0</td>\n",
       "      <td>2</td>\n",
       "      <td>2</td>\n",
       "      <td>2</td>\n",
       "      <td>34</td>\n",
       "      <td>0</td>\n",
       "      <td>0</td>\n",
       "      <td>0</td>\n",
       "      <td>0</td>\n",
       "      <td>...</td>\n",
       "      <td>14331.0</td>\n",
       "      <td>14948.0</td>\n",
       "      <td>15549.0</td>\n",
       "      <td>1518.0</td>\n",
       "      <td>1500.0</td>\n",
       "      <td>1000.0</td>\n",
       "      <td>1000.0</td>\n",
       "      <td>1000.0</td>\n",
       "      <td>5000.0</td>\n",
       "      <td>0</td>\n",
       "    </tr>\n",
       "    <tr>\n",
       "      <th>3</th>\n",
       "      <td>4</td>\n",
       "      <td>50000.0</td>\n",
       "      <td>2</td>\n",
       "      <td>2</td>\n",
       "      <td>1</td>\n",
       "      <td>37</td>\n",
       "      <td>0</td>\n",
       "      <td>0</td>\n",
       "      <td>0</td>\n",
       "      <td>0</td>\n",
       "      <td>...</td>\n",
       "      <td>28314.0</td>\n",
       "      <td>28959.0</td>\n",
       "      <td>29547.0</td>\n",
       "      <td>2000.0</td>\n",
       "      <td>2019.0</td>\n",
       "      <td>1200.0</td>\n",
       "      <td>1100.0</td>\n",
       "      <td>1069.0</td>\n",
       "      <td>1000.0</td>\n",
       "      <td>0</td>\n",
       "    </tr>\n",
       "    <tr>\n",
       "      <th>4</th>\n",
       "      <td>5</td>\n",
       "      <td>50000.0</td>\n",
       "      <td>1</td>\n",
       "      <td>2</td>\n",
       "      <td>1</td>\n",
       "      <td>57</td>\n",
       "      <td>-1</td>\n",
       "      <td>0</td>\n",
       "      <td>-1</td>\n",
       "      <td>0</td>\n",
       "      <td>...</td>\n",
       "      <td>20940.0</td>\n",
       "      <td>19146.0</td>\n",
       "      <td>19131.0</td>\n",
       "      <td>2000.0</td>\n",
       "      <td>36681.0</td>\n",
       "      <td>10000.0</td>\n",
       "      <td>9000.0</td>\n",
       "      <td>689.0</td>\n",
       "      <td>679.0</td>\n",
       "      <td>0</td>\n",
       "    </tr>\n",
       "  </tbody>\n",
       "</table>\n",
       "<p>5 rows × 25 columns</p>\n",
       "</div>"
      ],
      "text/plain": [
       "   ID  LIMIT_BAL  SEX  EDUCATION  MARRIAGE  AGE  PAY_0  PAY_2  PAY_3  PAY_4  \\\n",
       "0   1    20000.0    2          2         1   24      2      2     -1     -1   \n",
       "1   2   120000.0    2          2         2   26     -1      2      0      0   \n",
       "2   3    90000.0    2          2         2   34      0      0      0      0   \n",
       "3   4    50000.0    2          2         1   37      0      0      0      0   \n",
       "4   5    50000.0    1          2         1   57     -1      0     -1      0   \n",
       "\n",
       "   ...  BILL_AMT4  BILL_AMT5  BILL_AMT6  PAY_AMT1  PAY_AMT2  PAY_AMT3  \\\n",
       "0  ...        0.0        0.0        0.0       0.0     689.0       0.0   \n",
       "1  ...     3272.0     3455.0     3261.0       0.0    1000.0    1000.0   \n",
       "2  ...    14331.0    14948.0    15549.0    1518.0    1500.0    1000.0   \n",
       "3  ...    28314.0    28959.0    29547.0    2000.0    2019.0    1200.0   \n",
       "4  ...    20940.0    19146.0    19131.0    2000.0   36681.0   10000.0   \n",
       "\n",
       "   PAY_AMT4  PAY_AMT5  PAY_AMT6  default.payment.next.month  \n",
       "0       0.0       0.0       0.0                           1  \n",
       "1    1000.0       0.0    2000.0                           1  \n",
       "2    1000.0    1000.0    5000.0                           0  \n",
       "3    1100.0    1069.0    1000.0                           0  \n",
       "4    9000.0     689.0     679.0                           0  \n",
       "\n",
       "[5 rows x 25 columns]"
      ]
     },
     "execution_count": 6,
     "metadata": {},
     "output_type": "execute_result"
    }
   ],
   "source": [
    "cc=pd.read_csv(\"UCI_Credit_Card.csv\")\n",
    "cc.head()"
   ]
  },
  {
   "cell_type": "code",
   "execution_count": null,
   "metadata": {
    "cell_id": "00003-3cd9e16e-0fe9-48ee-aeea-217fc0cbde3b",
    "deepnote_cell_type": "code",
    "deepnote_to_be_reexecuted": false,
    "execution_millis": 4,
    "execution_start": 1609851931823,
    "source_hash": "9a017503",
    "tags": []
   },
   "outputs": [
    {
     "name": "stdout",
     "output_type": "stream",
     "text": [
      "number of rows : 30000\n",
      "number of columns : 25\n",
      "number of rows and columns : (30000, 25)\n",
      "number of elements : 750000\n"
     ]
    }
   ],
   "source": [
    "print(\"number of rows :\",len(cc))\n",
    "print(\"number of columns :\",len(cc.columns))\n",
    "print(\"number of rows and columns :\",cc.shape)\n",
    "print(\"number of elements :\",cc.size)"
   ]
  },
  {
   "cell_type": "code",
   "execution_count": null,
   "metadata": {
    "cell_id": "00004-e1a39c94-f3d0-4906-b359-cf1ad8f37ebb",
    "deepnote_cell_type": "code",
    "deepnote_to_be_reexecuted": false,
    "execution_millis": 7,
    "execution_start": 1609851931829,
    "source_hash": "328dd86c",
    "tags": []
   },
   "outputs": [
    {
     "data": {
      "text/plain": [
       "ID                            0\n",
       "LIMIT_BAL                     0\n",
       "SEX                           0\n",
       "EDUCATION                     0\n",
       "MARRIAGE                      0\n",
       "AGE                           0\n",
       "PAY_0                         0\n",
       "PAY_2                         0\n",
       "PAY_3                         0\n",
       "PAY_4                         0\n",
       "PAY_5                         0\n",
       "PAY_6                         0\n",
       "BILL_AMT1                     0\n",
       "BILL_AMT2                     0\n",
       "BILL_AMT3                     0\n",
       "BILL_AMT4                     0\n",
       "BILL_AMT5                     0\n",
       "BILL_AMT6                     0\n",
       "PAY_AMT1                      0\n",
       "PAY_AMT2                      0\n",
       "PAY_AMT3                      0\n",
       "PAY_AMT4                      0\n",
       "PAY_AMT5                      0\n",
       "PAY_AMT6                      0\n",
       "default.payment.next.month    0\n",
       "dtype: int64"
      ]
     },
     "execution_count": 5,
     "metadata": {},
     "output_type": "execute_result"
    }
   ],
   "source": [
    "cc.isnull().sum()"
   ]
  },
  {
   "cell_type": "code",
   "execution_count": null,
   "metadata": {
    "cell_id": "00005-a14b392b-c41b-4ac0-ab0c-848a08d69b32",
    "deepnote_cell_type": "code",
    "deepnote_to_be_reexecuted": false,
    "execution_millis": 759,
    "execution_start": 1609851931838,
    "source_hash": "4a14431f",
    "tags": []
   },
   "outputs": [
    {
     "data": {
      "text/plain": [
       "<AxesSubplot:>"
      ]
     },
     "execution_count": 6,
     "metadata": {},
     "output_type": "execute_result"
    },
    {
     "data": {
      "image/png": "[encoded data removed]",
      "text/plain": [
       "<Figure size 1800x720 with 2 Axes>"
      ]
     },
     "metadata": {
      "needs_background": "light"
     },
     "output_type": "display_data"
    }
   ],
   "source": [
    "msno.matrix(cc)"
   ]
  },
  {
   "cell_type": "markdown",
   "metadata": {
    "cell_id": "00005-6b0836cf-dddf-4ee4-8d7f-924fac7f52fe",
    "deepnote_cell_type": "markdown",
    "tags": []
   },
   "source": [
    "\n",
    "There are 25 variables:\n",
    "\n",
    "ID: ID of each client\n",
    "LIMIT_BAL: Amount of given credit in NT dollars (includes individual and family/supplementary credit\n",
    "SEX: Gender (1=male, 2=female)\n",
    "EDUCATION: (1=graduate school, 2=university, 3=high school, 4=others, 5=unknown, 6=unknown)\n",
    "MARRIAGE: Marital status (1=married, 2=single, 3=others)\n",
    "AGE: Age in years\n",
    "PAY_0: Repayment status in September, 2005 (-1=pay duly, 1=payment delay for one month, 2=payment delay for two months, … 8=payment delay for eight months, 9=payment delay for nine months and above)\n",
    "PAY_2: Repayment status in August, 2005 (scale same as above)\n",
    "PAY_3: Repayment status in July, 2005 (scale same as above)\n",
    "PAY_4: Repayment status in June, 2005 (scale same as above)\n",
    "PAY_5: Repayment status in May, 2005 (scale same as above)\n",
    "PAY_6: Repayment status in April, 2005 (scale same as above)\n",
    "BILL_AMT1: Amount of bill statement in September, 2005 (NT dollar)\n",
    "BILL_AMT2: Amount of bill statement in August, 2005 (NT dollar)\n",
    "BILL_AMT3: Amount of bill statement in July, 2005 (NT dollar)\n",
    "BILL_AMT4: Amount of bill statement in June, 2005 (NT dollar)\n",
    "BILL_AMT5: Amount of bill statement in May, 2005 (NT dollar)\n",
    "BILL_AMT6: Amount of bill statement in April, 2005 (NT dollar)\n",
    "PAY_AMT1: Amount of previous payment in September, 2005 (NT dollar)\n",
    "PAY_AMT2: Amount of previous payment in August, 2005 (NT dollar)\n",
    "PAY_AMT3: Amount of previous payment in July, 2005 (NT dollar)\n",
    "PAY_AMT4: Amount of previous payment in June, 2005 (NT dollar)\n",
    "PAY_AMT5: Amount of previous payment in May, 2005 (NT dollar)\n",
    "PAY_AMT6: Amount of previous payment in April, 2005 (NT dollar)\n",
    "default.payment.next.month: Default payment (1=yes, 0=no)\n"
   ]
  },
  {
   "cell_type": "code",
   "execution_count": null,
   "metadata": {
    "cell_id": "00007-524badb7-e0d4-4e6e-a631-6021f43bfd6e",
    "deepnote_cell_type": "code",
    "deepnote_to_be_reexecuted": false,
    "execution_millis": 45,
    "execution_start": 1609858705894,
    "source_hash": "d6831218",
    "tags": []
   },
   "outputs": [
    {
     "name": "stdout",
     "output_type": "stream",
     "text": [
      "number of true  : 6636\n",
      "number of false : 23364\n"
     ]
    },
    {
     "data": {
      "image/png": "[encoded data removed]",
      "text/plain": [
       "<Figure size 432x288 with 1 Axes>"
      ]
     },
     "metadata": {},
     "output_type": "display_data"
    }
   ],
   "source": [
    "number_of_true = cc['default.payment.next.month'].sum()\n",
    "number_of_false = cc.shape[0] - number_of_true\n",
    "print('number of true  :', number_of_true)\n",
    "print('number of false :', number_of_false)\n",
    "plt.pie([number_of_true, number_of_false], labels=['true', 'false'], autopct='%1.1f%%')\n",
    "plt.title(' 6636 true\\n23364 false')\n",
    "plt.show()"
   ]
  },
  {
   "cell_type": "code",
   "execution_count": null,
   "metadata": {
    "cell_id": "00006-dc5fbf7b-acd2-40ca-bae1-41d716846c4d",
    "deepnote_cell_type": "code",
    "deepnote_to_be_reexecuted": false,
    "execution_millis": 74,
    "execution_start": 1609851932602,
    "source_hash": "2b526d81",
    "tags": []
   },
   "outputs": [
    {
     "data": {
      "application/vnd.deepnote.dataframe.v2+json": {
       "column_count": 35,
       "columns": [
        {
         "dtype": "int64",
         "name": "ID",
         "stats": {
          "histogram": [
           {
            "bin_end": 1.4,
            "bin_start": 1,
            "count": 1
           },
           {
            "bin_end": 1.8,
            "bin_start": 1.4,
            "count": 0
           },
           {
            "bin_end": 2.2,
            "bin_start": 1.8,
            "count": 1
           },
           {
            "bin_end": 2.6,
            "bin_start": 2.2,
            "count": 0
           },
           {
            "bin_end": 3,
            "bin_start": 2.6,
            "count": 0
           },
           {
            "bin_end": 3.4000000000000004,
            "bin_start": 3,
            "count": 1
           },
           {
            "bin_end": 3.8000000000000003,
            "bin_start": 3.4000000000000004,
            "count": 0
           },
           {
            "bin_end": 4.2,
            "bin_start": 3.8000000000000003,
            "count": 1
           },
           {
            "bin_end": 4.6,
            "bin_start": 4.2,
            "count": 0
           },
           {
            "bin_end": 5,
            "bin_start": 4.6,
            "count": 1
           }
          ],
          "max": 5,
          "min": 1,
          "nan_count": 0,
          "unique_count": 5
         }
        },
        {
         "dtype": "float64",
         "name": "LIMIT_BAL",
         "stats": {
          "histogram": [
           {
            "bin_end": 30000,
            "bin_start": 20000,
            "count": 1
           },
           {
            "bin_end": 40000,
            "bin_start": 30000,
            "count": 0
           },
           {
            "bin_end": 50000,
            "bin_start": 40000,
            "count": 0
           },
           {
            "bin_end": 60000,
            "bin_start": 50000,
            "count": 2
           },
           {
            "bin_end": 70000,
            "bin_start": 60000,
            "count": 0
           },
           {
            "bin_end": 80000,
            "bin_start": 70000,
            "count": 0
           },
           {
            "bin_end": 90000,
            "bin_start": 80000,
            "count": 0
           },
           {
            "bin_end": 100000,
            "bin_start": 90000,
            "count": 1
           },
           {
            "bin_end": 110000,
            "bin_start": 100000,
            "count": 0
           },
           {
            "bin_end": 120000,
            "bin_start": 110000,
            "count": 1
           }
          ],
          "max": 120000,
          "min": 20000,
          "nan_count": 0,
          "unique_count": 4
         }
        },
        {
         "dtype": "int64",
         "name": "AGE",
         "stats": {
          "histogram": [
           {
            "bin_end": 27.3,
            "bin_start": 24,
            "count": 2
           },
           {
            "bin_end": 30.6,
            "bin_start": 27.3,
            "count": 0
           },
           {
            "bin_end": 33.9,
            "bin_start": 30.6,
            "count": 0
           },
           {
            "bin_end": 37.2,
            "bin_start": 33.9,
            "count": 2
           },
           {
            "bin_end": 40.5,
            "bin_start": 37.2,
            "count": 0
           },
           {
            "bin_end": 43.8,
            "bin_start": 40.5,
            "count": 0
           },
           {
            "bin_end": 47.099999999999994,
            "bin_start": 43.8,
            "count": 0
           },
           {
            "bin_end": 50.4,
            "bin_start": 47.099999999999994,
            "count": 0
           },
           {
            "bin_end": 53.7,
            "bin_start": 50.4,
            "count": 0
           },
           {
            "bin_end": 57,
            "bin_start": 53.7,
            "count": 1
           }
          ],
          "max": 57,
          "min": 24,
          "nan_count": 0,
          "unique_count": 5
         }
        },
        {
         "dtype": "int64",
         "name": "PAY_0",
         "stats": {
          "histogram": [
           {
            "bin_end": -0.7,
            "bin_start": -1,
            "count": 2
           },
           {
            "bin_end": -0.4,
            "bin_start": -0.7,
            "count": 0
           },
           {
            "bin_end": -0.10000000000000009,
            "bin_start": -0.4,
            "count": 0
           },
           {
            "bin_end": 0.19999999999999996,
            "bin_start": -0.10000000000000009,
            "count": 2
           },
           {
            "bin_end": 0.5,
            "bin_start": 0.19999999999999996,
            "count": 0
           },
           {
            "bin_end": 0.7999999999999998,
            "bin_start": 0.5,
            "count": 0
           },
           {
            "bin_end": 1.1,
            "bin_start": 0.7999999999999998,
            "count": 0
           },
           {
            "bin_end": 1.4,
            "bin_start": 1.1,
            "count": 0
           },
           {
            "bin_end": 1.6999999999999997,
            "bin_start": 1.4,
            "count": 0
           },
           {
            "bin_end": 2,
            "bin_start": 1.6999999999999997,
            "count": 1
           }
          ],
          "max": 2,
          "min": -1,
          "nan_count": 0,
          "unique_count": 3
         }
        },
        {
         "dtype": "int64",
         "name": "PAY_2",
         "stats": {
          "histogram": [
           {
            "bin_end": 0.2,
            "bin_start": 0,
            "count": 3
           },
           {
            "bin_end": 0.4,
            "bin_start": 0.2,
            "count": 0
           },
           {
            "bin_end": 0.6000000000000001,
            "bin_start": 0.4,
            "count": 0
           },
           {
            "bin_end": 0.8,
            "bin_start": 0.6000000000000001,
            "count": 0
           },
           {
            "bin_end": 1,
            "bin_start": 0.8,
            "count": 0
           },
           {
            "bin_end": 1.2000000000000002,
            "bin_start": 1,
            "count": 0
           },
           {
            "bin_end": 1.4000000000000001,
            "bin_start": 1.2000000000000002,
            "count": 0
           },
           {
            "bin_end": 1.6,
            "bin_start": 1.4000000000000001,
            "count": 0
           },
           {
            "bin_end": 1.8,
            "bin_start": 1.6,
            "count": 0
           },
           {
            "bin_end": 2,
            "bin_start": 1.8,
            "count": 2
           }
          ],
          "max": 2,
          "min": 0,
          "nan_count": 0,
          "unique_count": 2
         }
        },
        {
         "dtype": "int64",
         "name": "PAY_3",
         "stats": {
          "histogram": [
           {
            "bin_end": -0.9,
            "bin_start": -1,
            "count": 2
           },
           {
            "bin_end": -0.8,
            "bin_start": -0.9,
            "count": 0
           },
           {
            "bin_end": -0.7,
            "bin_start": -0.8,
            "count": 0
           },
           {
            "bin_end": -0.6,
            "bin_start": -0.7,
            "count": 0
           },
           {
            "bin_end": -0.5,
            "bin_start": -0.6,
            "count": 0
           },
           {
            "bin_end": -0.3999999999999999,
            "bin_start": -0.5,
            "count": 0
           },
           {
            "bin_end": -0.29999999999999993,
            "bin_start": -0.3999999999999999,
            "count": 0
           },
           {
            "bin_end": -0.19999999999999996,
            "bin_start": -0.29999999999999993,
            "count": 0
           },
           {
            "bin_end": -0.09999999999999998,
            "bin_start": -0.19999999999999996,
            "count": 0
           },
           {
            "bin_end": 0,
            "bin_start": -0.09999999999999998,
            "count": 3
           }
          ],
          "max": 0,
          "min": -1,
          "nan_count": 0,
          "unique_count": 2
         }
        },
        {
         "dtype": "int64",
         "name": "PAY_4",
         "stats": {
          "histogram": [
           {
            "bin_end": -0.9,
            "bin_start": -1,
            "count": 1
           },
           {
            "bin_end": -0.8,
            "bin_start": -0.9,
            "count": 0
           },
           {
            "bin_end": -0.7,
            "bin_start": -0.8,
            "count": 0
           },
           {
            "bin_end": -0.6,
            "bin_start": -0.7,
            "count": 0
           },
           {
            "bin_end": -0.5,
            "bin_start": -0.6,
            "count": 0
           },
           {
            "bin_end": -0.3999999999999999,
            "bin_start": -0.5,
            "count": 0
           },
           {
            "bin_end": -0.29999999999999993,
            "bin_start": -0.3999999999999999,
            "count": 0
           },
           {
            "bin_end": -0.19999999999999996,
            "bin_start": -0.29999999999999993,
            "count": 0
           },
           {
            "bin_end": -0.09999999999999998,
            "bin_start": -0.19999999999999996,
            "count": 0
           },
           {
            "bin_end": 0,
            "bin_start": -0.09999999999999998,
            "count": 4
           }
          ],
          "max": 0,
          "min": -1,
          "nan_count": 0,
          "unique_count": 2
         }
        },
        {
         "dtype": "int64",
         "name": "PAY_5",
         "stats": {
          "histogram": [
           {
            "bin_end": -1.8,
            "bin_start": -2,
            "count": 1
           },
           {
            "bin_end": -1.6,
            "bin_start": -1.8,
            "count": 0
           },
           {
            "bin_end": -1.4,
            "bin_start": -1.6,
            "count": 0
           },
           {
            "bin_end": -1.2,
            "bin_start": -1.4,
            "count": 0
           },
           {
            "bin_end": -1,
            "bin_start": -1.2,
            "count": 0
           },
           {
            "bin_end": -0.7999999999999998,
            "bin_start": -1,
            "count": 0
           },
           {
            "bin_end": -0.5999999999999999,
            "bin_start": -0.7999999999999998,
            "count": 0
           },
           {
            "bin_end": -0.3999999999999999,
            "bin_start": -0.5999999999999999,
            "count": 0
           },
           {
            "bin_end": -0.19999999999999996,
            "bin_start": -0.3999999999999999,
            "count": 0
           },
           {
            "bin_end": 0,
            "bin_start": -0.19999999999999996,
            "count": 4
           }
          ],
          "max": 0,
          "min": -2,
          "nan_count": 0,
          "unique_count": 2
         }
        },
        {
         "dtype": "int64",
         "name": "PAY_6",
         "stats": {
          "histogram": [
           {
            "bin_end": -1.6,
            "bin_start": -2,
            "count": 1
           },
           {
            "bin_end": -1.2,
            "bin_start": -1.6,
            "count": 0
           },
           {
            "bin_end": -0.7999999999999998,
            "bin_start": -1.2,
            "count": 0
           },
           {
            "bin_end": -0.3999999999999999,
            "bin_start": -0.7999999999999998,
            "count": 0
           },
           {
            "bin_end": 0,
            "bin_start": -0.3999999999999999,
            "count": 0
           },
           {
            "bin_end": 0.40000000000000036,
            "bin_start": 0,
            "count": 3
           },
           {
            "bin_end": 0.8000000000000003,
            "bin_start": 0.40000000000000036,
            "count": 0
           },
           {
            "bin_end": 1.2000000000000002,
            "bin_start": 0.8000000000000003,
            "count": 0
           },
           {
            "bin_end": 1.6,
            "bin_start": 1.2000000000000002,
            "count": 0
           },
           {
            "bin_end": 2,
            "bin_start": 1.6,
            "count": 1
           }
          ],
          "max": 2,
          "min": -2,
          "nan_count": 0,
          "unique_count": 3
         }
        },
        {
         "dtype": "float64",
         "name": "BILL_AMT1",
         "stats": {
          "histogram": [
           {
            "bin_end": 7112.8,
            "bin_start": 2682,
            "count": 2
           },
           {
            "bin_end": 11543.6,
            "bin_start": 7112.8,
            "count": 1
           },
           {
            "bin_end": 15974.400000000001,
            "bin_start": 11543.6,
            "count": 0
           },
           {
            "bin_end": 20405.2,
            "bin_start": 15974.400000000001,
            "count": 0
           },
           {
            "bin_end": 24836,
            "bin_start": 20405.2,
            "count": 0
           },
           {
            "bin_end": 29266.800000000003,
            "bin_start": 24836,
            "count": 1
           },
           {
            "bin_end": 33697.600000000006,
            "bin_start": 29266.800000000003,
            "count": 0
           },
           {
            "bin_end": 38128.4,
            "bin_start": 33697.600000000006,
            "count": 0
           },
           {
            "bin_end": 42559.200000000004,
            "bin_start": 38128.4,
            "count": 0
           },
           {
            "bin_end": 46990,
            "bin_start": 42559.200000000004,
            "count": 1
           }
          ],
          "max": 46990,
          "min": 2682,
          "nan_count": 0,
          "unique_count": 5
         }
        },
        {
         "dtype": "float64",
         "name": "BILL_AMT2",
         "stats": {
          "histogram": [
           {
            "bin_end": 6375.8,
            "bin_start": 1725,
            "count": 3
           },
           {
            "bin_end": 11026.6,
            "bin_start": 6375.8,
            "count": 0
           },
           {
            "bin_end": 15677.400000000001,
            "bin_start": 11026.6,
            "count": 1
           },
           {
            "bin_end": 20328.2,
            "bin_start": 15677.400000000001,
            "count": 0
           },
           {
            "bin_end": 24979,
            "bin_start": 20328.2,
            "count": 0
           },
           {
            "bin_end": 29629.800000000003,
            "bin_start": 24979,
            "count": 0
           },
           {
            "bin_end": 34280.600000000006,
            "bin_start": 29629.800000000003,
            "count": 0
           },
           {
            "bin_end": 38931.4,
            "bin_start": 34280.600000000006,
            "count": 0
           },
           {
            "bin_end": 43582.200000000004,
            "bin_start": 38931.4,
            "count": 0
           },
           {
            "bin_end": 48233,
            "bin_start": 43582.200000000004,
            "count": 1
           }
          ],
          "max": 48233,
          "min": 1725,
          "nan_count": 0,
          "unique_count": 5
         }
        },
        {
         "dtype": "float64",
         "name": "BILL_AMT3",
         "stats": {
          "histogram": [
           {
            "bin_end": 5549.2,
            "bin_start": 689,
            "count": 2
           },
           {
            "bin_end": 10409.4,
            "bin_start": 5549.2,
            "count": 0
           },
           {
            "bin_end": 15269.599999999999,
            "bin_start": 10409.4,
            "count": 1
           },
           {
            "bin_end": 20129.8,
            "bin_start": 15269.599999999999,
            "count": 0
           },
           {
            "bin_end": 24990,
            "bin_start": 20129.8,
            "count": 0
           },
           {
            "bin_end": 29850.199999999997,
            "bin_start": 24990,
            "count": 0
           },
           {
            "bin_end": 34710.4,
            "bin_start": 29850.199999999997,
            "count": 0
           },
           {
            "bin_end": 39570.6,
            "bin_start": 34710.4,
            "count": 1
           },
           {
            "bin_end": 44430.799999999996,
            "bin_start": 39570.6,
            "count": 0
           },
           {
            "bin_end": 49291,
            "bin_start": 44430.799999999996,
            "count": 1
           }
          ],
          "max": 49291,
          "min": 689,
          "nan_count": 0,
          "unique_count": 5
         }
        },
        {
         "dtype": "float64",
         "name": "BILL_AMT4",
         "stats": {
          "histogram": [
           {
            "bin_end": 2831.4,
            "bin_start": 0,
            "count": 1
           },
           {
            "bin_end": 5662.8,
            "bin_start": 2831.4,
            "count": 1
           },
           {
            "bin_end": 8494.2,
            "bin_start": 5662.8,
            "count": 0
           },
           {
            "bin_end": 11325.6,
            "bin_start": 8494.2,
            "count": 0
           },
           {
            "bin_end": 14157,
            "bin_start": 11325.6,
            "count": 0
           },
           {
            "bin_end": 16988.4,
            "bin_start": 14157,
            "count": 1
           },
           {
            "bin_end": 19819.8,
            "bin_start": 16988.4,
            "count": 0
           },
           {
            "bin_end": 22651.2,
            "bin_start": 19819.8,
            "count": 1
           },
           {
            "bin_end": 25482.600000000002,
            "bin_start": 22651.2,
            "count": 0
           },
           {
            "bin_end": 28314,
            "bin_start": 25482.600000000002,
            "count": 1
           }
          ],
          "max": 28314,
          "min": 0,
          "nan_count": 0,
          "unique_count": 5
         }
        },
        {
         "dtype": "float64",
         "name": "BILL_AMT5",
         "stats": {
          "histogram": [
           {
            "bin_end": 2895.9,
            "bin_start": 0,
            "count": 1
           },
           {
            "bin_end": 5791.8,
            "bin_start": 2895.9,
            "count": 1
           },
           {
            "bin_end": 8687.7,
            "bin_start": 5791.8,
            "count": 0
           },
           {
            "bin_end": 11583.6,
            "bin_start": 8687.7,
            "count": 0
           },
           {
            "bin_end": 14479.5,
            "bin_start": 11583.6,
            "count": 0
           },
           {
            "bin_end": 17375.4,
            "bin_start": 14479.5,
            "count": 1
           },
           {
            "bin_end": 20271.3,
            "bin_start": 17375.4,
            "count": 1
           },
           {
            "bin_end": 23167.2,
            "bin_start": 20271.3,
            "count": 0
           },
           {
            "bin_end": 26063.100000000002,
            "bin_start": 23167.2,
            "count": 0
           },
           {
            "bin_end": 28959,
            "bin_start": 26063.100000000002,
            "count": 1
           }
          ],
          "max": 28959,
          "min": 0,
          "nan_count": 0,
          "unique_count": 5
         }
        },
        {
         "dtype": "float64",
         "name": "BILL_AMT6",
         "stats": {
          "histogram": [
           {
            "bin_end": 2954.7,
            "bin_start": 0,
            "count": 1
           },
           {
            "bin_end": 5909.4,
            "bin_start": 2954.7,
            "count": 1
           },
           {
            "bin_end": 8864.099999999999,
            "bin_start": 5909.4,
            "count": 0
           },
           {
            "bin_end": 11818.8,
            "bin_start": 8864.099999999999,
            "count": 0
           },
           {
            "bin_end": 14773.5,
            "bin_start": 11818.8,
            "count": 0
           },
           {
            "bin_end": 17728.199999999997,
            "bin_start": 14773.5,
            "count": 1
           },
           {
            "bin_end": 20682.899999999998,
            "bin_start": 17728.199999999997,
            "count": 1
           },
           {
            "bin_end": 23637.6,
            "bin_start": 20682.899999999998,
            "count": 0
           },
           {
            "bin_end": 26592.3,
            "bin_start": 23637.6,
            "count": 0
           },
           {
            "bin_end": 29547,
            "bin_start": 26592.3,
            "count": 1
           }
          ],
          "max": 29547,
          "min": 0,
          "nan_count": 0,
          "unique_count": 5
         }
        },
        {
         "dtype": "float64",
         "name": "PAY_AMT1",
         "stats": {
          "histogram": [
           {
            "bin_end": 200,
            "bin_start": 0,
            "count": 2
           },
           {
            "bin_end": 400,
            "bin_start": 200,
            "count": 0
           },
           {
            "bin_end": 600,
            "bin_start": 400,
            "count": 0
           },
           {
            "bin_end": 800,
            "bin_start": 600,
            "count": 0
           },
           {
            "bin_end": 1000,
            "bin_start": 800,
            "count": 0
           },
           {
            "bin_end": 1200,
            "bin_start": 1000,
            "count": 0
           },
           {
            "bin_end": 1400,
            "bin_start": 1200,
            "count": 0
           },
           {
            "bin_end": 1600,
            "bin_start": 1400,
            "count": 1
           },
           {
            "bin_end": 1800,
            "bin_start": 1600,
            "count": 0
           },
           {
            "bin_end": 2000,
            "bin_start": 1800,
            "count": 2
           }
          ],
          "max": 2000,
          "min": 0,
          "nan_count": 0,
          "unique_count": 3
         }
        },
        {
         "dtype": "float64",
         "name": "PAY_AMT2",
         "stats": {
          "histogram": [
           {
            "bin_end": 4288.2,
            "bin_start": 689,
            "count": 4
           },
           {
            "bin_end": 7887.4,
            "bin_start": 4288.2,
            "count": 0
           },
           {
            "bin_end": 11486.599999999999,
            "bin_start": 7887.4,
            "count": 0
           },
           {
            "bin_end": 15085.8,
            "bin_start": 11486.599999999999,
            "count": 0
           },
           {
            "bin_end": 18685,
            "bin_start": 15085.8,
            "count": 0
           },
           {
            "bin_end": 22284.199999999997,
            "bin_start": 18685,
            "count": 0
           },
           {
            "bin_end": 25883.399999999998,
            "bin_start": 22284.199999999997,
            "count": 0
           },
           {
            "bin_end": 29482.6,
            "bin_start": 25883.399999999998,
            "count": 0
           },
           {
            "bin_end": 33081.8,
            "bin_start": 29482.6,
            "count": 0
           },
           {
            "bin_end": 36681,
            "bin_start": 33081.8,
            "count": 1
           }
          ],
          "max": 36681,
          "min": 689,
          "nan_count": 0,
          "unique_count": 5
         }
        },
        {
         "dtype": "float64",
         "name": "PAY_AMT3",
         "stats": {
          "histogram": [
           {
            "bin_end": 1000,
            "bin_start": 0,
            "count": 1
           },
           {
            "bin_end": 2000,
            "bin_start": 1000,
            "count": 3
           },
           {
            "bin_end": 3000,
            "bin_start": 2000,
            "count": 0
           },
           {
            "bin_end": 4000,
            "bin_start": 3000,
            "count": 0
           },
           {
            "bin_end": 5000,
            "bin_start": 4000,
            "count": 0
           },
           {
            "bin_end": 6000,
            "bin_start": 5000,
            "count": 0
           },
           {
            "bin_end": 7000,
            "bin_start": 6000,
            "count": 0
           },
           {
            "bin_end": 8000,
            "bin_start": 7000,
            "count": 0
           },
           {
            "bin_end": 9000,
            "bin_start": 8000,
            "count": 0
           },
           {
            "bin_end": 10000,
            "bin_start": 9000,
            "count": 1
           }
          ],
          "max": 10000,
          "min": 0,
          "nan_count": 0,
          "unique_count": 4
         }
        },
        {
         "dtype": "float64",
         "name": "PAY_AMT4",
         "stats": {
          "histogram": [
           {
            "bin_end": 900,
            "bin_start": 0,
            "count": 1
           },
           {
            "bin_end": 1800,
            "bin_start": 900,
            "count": 3
           },
           {
            "bin_end": 2700,
            "bin_start": 1800,
            "count": 0
           },
           {
            "bin_end": 3600,
            "bin_start": 2700,
            "count": 0
           },
           {
            "bin_end": 4500,
            "bin_start": 3600,
            "count": 0
           },
           {
            "bin_end": 5400,
            "bin_start": 4500,
            "count": 0
           },
           {
            "bin_end": 6300,
            "bin_start": 5400,
            "count": 0
           },
           {
            "bin_end": 7200,
            "bin_start": 6300,
            "count": 0
           },
           {
            "bin_end": 8100,
            "bin_start": 7200,
            "count": 0
           },
           {
            "bin_end": 9000,
            "bin_start": 8100,
            "count": 1
           }
          ],
          "max": 9000,
          "min": 0,
          "nan_count": 0,
          "unique_count": 4
         }
        },
        {
         "dtype": "float64",
         "name": "PAY_AMT5",
         "stats": {
          "histogram": [
           {
            "bin_end": 106.9,
            "bin_start": 0,
            "count": 2
           },
           {
            "bin_end": 213.8,
            "bin_start": 106.9,
            "count": 0
           },
           {
            "bin_end": 320.70000000000005,
            "bin_start": 213.8,
            "count": 0
           },
           {
            "bin_end": 427.6,
            "bin_start": 320.70000000000005,
            "count": 0
           },
           {
            "bin_end": 534.5,
            "bin_start": 427.6,
            "count": 0
           },
           {
            "bin_end": 641.4000000000001,
            "bin_start": 534.5,
            "count": 0
           },
           {
            "bin_end": 748.3000000000001,
            "bin_start": 641.4000000000001,
            "count": 1
           },
           {
            "bin_end": 855.2,
            "bin_start": 748.3000000000001,
            "count": 0
           },
           {
            "bin_end": 962.1,
            "bin_start": 855.2,
            "count": 0
           },
           {
            "bin_end": 1069,
            "bin_start": 962.1,
            "count": 2
           }
          ],
          "max": 1069,
          "min": 0,
          "nan_count": 0,
          "unique_count": 4
         }
        },
        {
         "dtype": "float64",
         "name": "PAY_AMT6",
         "stats": {
          "histogram": [
           {
            "bin_end": 500,
            "bin_start": 0,
            "count": 1
           },
           {
            "bin_end": 1000,
            "bin_start": 500,
            "count": 1
           },
           {
            "bin_end": 1500,
            "bin_start": 1000,
            "count": 1
           },
           {
            "bin_end": 2000,
            "bin_start": 1500,
            "count": 0
           },
           {
            "bin_end": 2500,
            "bin_start": 2000,
            "count": 1
           },
           {
            "bin_end": 3000,
            "bin_start": 2500,
            "count": 0
           },
           {
            "bin_end": 3500,
            "bin_start": 3000,
            "count": 0
           },
           {
            "bin_end": 4000,
            "bin_start": 3500,
            "count": 0
           },
           {
            "bin_end": 4500,
            "bin_start": 4000,
            "count": 0
           },
           {
            "bin_end": 5000,
            "bin_start": 4500,
            "count": 1
           }
          ],
          "max": 5000,
          "min": 0,
          "nan_count": 0,
          "unique_count": 5
         }
        },
        {
         "dtype": "int64",
         "name": "default.payment.next.month",
         "stats": {
          "histogram": [
           {
            "bin_end": 0.1,
            "bin_start": 0,
            "count": 3
           },
           {
            "bin_end": 0.2,
            "bin_start": 0.1,
            "count": 0
           },
           {
            "bin_end": 0.30000000000000004,
            "bin_start": 0.2,
            "count": 0
           },
           {
            "bin_end": 0.4,
            "bin_start": 0.30000000000000004,
            "count": 0
           },
           {
            "bin_end": 0.5,
            "bin_start": 0.4,
            "count": 0
           },
           {
            "bin_end": 0.6000000000000001,
            "bin_start": 0.5,
            "count": 0
           },
           {
            "bin_end": 0.7000000000000001,
            "bin_start": 0.6000000000000001,
            "count": 0
           },
           {
            "bin_end": 0.8,
            "bin_start": 0.7000000000000001,
            "count": 0
           },
           {
            "bin_end": 0.9,
            "bin_start": 0.8,
            "count": 0
           },
           {
            "bin_end": 1,
            "bin_start": 0.9,
            "count": 2
           }
          ],
          "max": 1,
          "min": 0,
          "nan_count": 0,
          "unique_count": 2
         }
        },
        {
         "dtype": "uint8",
         "name": "SEX_1",
         "stats": {
          "histogram": [
           {
            "bin_end": 0.1,
            "bin_start": 0,
            "count": 4
           },
           {
            "bin_end": 0.2,
            "bin_start": 0.1,
            "count": 0
           },
           {
            "bin_end": 0.30000000000000004,
            "bin_start": 0.2,
            "count": 0
           },
           {
            "bin_end": 0.4,
            "bin_start": 0.30000000000000004,
            "count": 0
           },
           {
            "bin_end": 0.5,
            "bin_start": 0.4,
            "count": 0
           },
           {
            "bin_end": 0.6000000000000001,
            "bin_start": 0.5,
            "count": 0
           },
           {
            "bin_end": 0.7000000000000001,
            "bin_start": 0.6000000000000001,
            "count": 0
           },
           {
            "bin_end": 0.8,
            "bin_start": 0.7000000000000001,
            "count": 0
           },
           {
            "bin_end": 0.9,
            "bin_start": 0.8,
            "count": 0
           },
           {
            "bin_end": 1,
            "bin_start": 0.9,
            "count": 1
           }
          ],
          "max": 1,
          "min": 0,
          "nan_count": 0,
          "unique_count": 2
         }
        },
        {
         "dtype": "uint8",
         "name": "SEX_2",
         "stats": {
          "histogram": [
           {
            "bin_end": 0.1,
            "bin_start": 0,
            "count": 1
           },
           {
            "bin_end": 0.2,
            "bin_start": 0.1,
            "count": 0
           },
           {
            "bin_end": 0.30000000000000004,
            "bin_start": 0.2,
            "count": 0
           },
           {
            "bin_end": 0.4,
            "bin_start": 0.30000000000000004,
            "count": 0
           },
           {
            "bin_end": 0.5,
            "bin_start": 0.4,
            "count": 0
           },
           {
            "bin_end": 0.6000000000000001,
            "bin_start": 0.5,
            "count": 0
           },
           {
            "bin_end": 0.7000000000000001,
            "bin_start": 0.6000000000000001,
            "count": 0
           },
           {
            "bin_end": 0.8,
            "bin_start": 0.7000000000000001,
            "count": 0
           },
           {
            "bin_end": 0.9,
            "bin_start": 0.8,
            "count": 0
           },
           {
            "bin_end": 1,
            "bin_start": 0.9,
            "count": 4
           }
          ],
          "max": 1,
          "min": 0,
          "nan_count": 0,
          "unique_count": 2
         }
        },
        {
         "dtype": "uint8",
         "name": "EDUCATION_0",
         "stats": {
          "histogram": [
           {
            "bin_end": -0.4,
            "bin_start": -0.5,
            "count": 0
           },
           {
            "bin_end": -0.3,
            "bin_start": -0.4,
            "count": 0
           },
           {
            "bin_end": -0.19999999999999996,
            "bin_start": -0.3,
            "count": 0
           },
           {
            "bin_end": -0.09999999999999998,
            "bin_start": -0.19999999999999996,
            "count": 0
           },
           {
            "bin_end": 0,
            "bin_start": -0.09999999999999998,
            "count": 0
           },
           {
            "bin_end": 0.10000000000000009,
            "bin_start": 0,
            "count": 5
           },
           {
            "bin_end": 0.20000000000000007,
            "bin_start": 0.10000000000000009,
            "count": 0
           },
           {
            "bin_end": 0.30000000000000004,
            "bin_start": 0.20000000000000007,
            "count": 0
           },
           {
            "bin_end": 0.4,
            "bin_start": 0.30000000000000004,
            "count": 0
           },
           {
            "bin_end": 0.5,
            "bin_start": 0.4,
            "count": 0
           }
          ],
          "max": 0,
          "min": 0,
          "nan_count": 0,
          "unique_count": 1
         }
        },
        {
         "dtype": "uint8",
         "name": "EDUCATION_1",
         "stats": {
          "histogram": [
           {
            "bin_end": -0.4,
            "bin_start": -0.5,
            "count": 0
           },
           {
            "bin_end": -0.3,
            "bin_start": -0.4,
            "count": 0
           },
           {
            "bin_end": -0.19999999999999996,
            "bin_start": -0.3,
            "count": 0
           },
           {
            "bin_end": -0.09999999999999998,
            "bin_start": -0.19999999999999996,
            "count": 0
           },
           {
            "bin_end": 0,
            "bin_start": -0.09999999999999998,
            "count": 0
           },
           {
            "bin_end": 0.10000000000000009,
            "bin_start": 0,
            "count": 5
           },
           {
            "bin_end": 0.20000000000000007,
            "bin_start": 0.10000000000000009,
            "count": 0
           },
           {
            "bin_end": 0.30000000000000004,
            "bin_start": 0.20000000000000007,
            "count": 0
           },
           {
            "bin_end": 0.4,
            "bin_start": 0.30000000000000004,
            "count": 0
           },
           {
            "bin_end": 0.5,
            "bin_start": 0.4,
            "count": 0
           }
          ],
          "max": 0,
          "min": 0,
          "nan_count": 0,
          "unique_count": 1
         }
        },
        {
         "dtype": "uint8",
         "name": "EDUCATION_2",
         "stats": {
          "histogram": [
           {
            "bin_end": 0.6,
            "bin_start": 0.5,
            "count": 0
           },
           {
            "bin_end": 0.7,
            "bin_start": 0.6,
            "count": 0
           },
           {
            "bin_end": 0.8,
            "bin_start": 0.7,
            "count": 0
           },
           {
            "bin_end": 0.9,
            "bin_start": 0.8,
            "count": 0
           },
           {
            "bin_end": 1,
            "bin_start": 0.9,
            "count": 0
           },
           {
            "bin_end": 1.1,
            "bin_start": 1,
            "count": 5
           },
           {
            "bin_end": 1.2000000000000002,
            "bin_start": 1.1,
            "count": 0
           },
           {
            "bin_end": 1.3,
            "bin_start": 1.2000000000000002,
            "count": 0
           },
           {
            "bin_end": 1.4,
            "bin_start": 1.3,
            "count": 0
           },
           {
            "bin_end": 1.5,
            "bin_start": 1.4,
            "count": 0
           }
          ],
          "max": 1,
          "min": 1,
          "nan_count": 0,
          "unique_count": 1
         }
        },
        {
         "dtype": "uint8",
         "name": "EDUCATION_3",
         "stats": {
          "histogram": [
           {
            "bin_end": -0.4,
            "bin_start": -0.5,
            "count": 0
           },
           {
            "bin_end": -0.3,
            "bin_start": -0.4,
            "count": 0
           },
           {
            "bin_end": -0.19999999999999996,
            "bin_start": -0.3,
            "count": 0
           },
           {
            "bin_end": -0.09999999999999998,
            "bin_start": -0.19999999999999996,
            "count": 0
           },
           {
            "bin_end": 0,
            "bin_start": -0.09999999999999998,
            "count": 0
           },
           {
            "bin_end": 0.10000000000000009,
            "bin_start": 0,
            "count": 5
           },
           {
            "bin_end": 0.20000000000000007,
            "bin_start": 0.10000000000000009,
            "count": 0
           },
           {
            "bin_end": 0.30000000000000004,
            "bin_start": 0.20000000000000007,
            "count": 0
           },
           {
            "bin_end": 0.4,
            "bin_start": 0.30000000000000004,
            "count": 0
           },
           {
            "bin_end": 0.5,
            "bin_start": 0.4,
            "count": 0
           }
          ],
          "max": 0,
          "min": 0,
          "nan_count": 0,
          "unique_count": 1
         }
        },
        {
         "dtype": "uint8",
         "name": "EDUCATION_4",
         "stats": {
          "histogram": [
           {
            "bin_end": -0.4,
            "bin_start": -0.5,
            "count": 0
           },
           {
            "bin_end": -0.3,
            "bin_start": -0.4,
            "count": 0
           },
           {
            "bin_end": -0.19999999999999996,
            "bin_start": -0.3,
            "count": 0
           },
           {
            "bin_end": -0.09999999999999998,
            "bin_start": -0.19999999999999996,
            "count": 0
           },
           {
            "bin_end": 0,
            "bin_start": -0.09999999999999998,
            "count": 0
           },
           {
            "bin_end": 0.10000000000000009,
            "bin_start": 0,
            "count": 5
           },
           {
            "bin_end": 0.20000000000000007,
            "bin_start": 0.10000000000000009,
            "count": 0
           },
           {
            "bin_end": 0.30000000000000004,
            "bin_start": 0.20000000000000007,
            "count": 0
           },
           {
            "bin_end": 0.4,
            "bin_start": 0.30000000000000004,
            "count": 0
           },
           {
            "bin_end": 0.5,
            "bin_start": 0.4,
            "count": 0
           }
          ],
          "max": 0,
          "min": 0,
          "nan_count": 0,
          "unique_count": 1
         }
        },
        {
         "dtype": "uint8",
         "name": "EDUCATION_5",
         "stats": {
          "histogram": [
           {
            "bin_end": -0.4,
            "bin_start": -0.5,
            "count": 0
           },
           {
            "bin_end": -0.3,
            "bin_start": -0.4,
            "count": 0
           },
           {
            "bin_end": -0.19999999999999996,
            "bin_start": -0.3,
            "count": 0
           },
           {
            "bin_end": -0.09999999999999998,
            "bin_start": -0.19999999999999996,
            "count": 0
           },
           {
            "bin_end": 0,
            "bin_start": -0.09999999999999998,
            "count": 0
           },
           {
            "bin_end": 0.10000000000000009,
            "bin_start": 0,
            "count": 5
           },
           {
            "bin_end": 0.20000000000000007,
            "bin_start": 0.10000000000000009,
            "count": 0
           },
           {
            "bin_end": 0.30000000000000004,
            "bin_start": 0.20000000000000007,
            "count": 0
           },
           {
            "bin_end": 0.4,
            "bin_start": 0.30000000000000004,
            "count": 0
           },
           {
            "bin_end": 0.5,
            "bin_start": 0.4,
            "count": 0
           }
          ],
          "max": 0,
          "min": 0,
          "nan_count": 0,
          "unique_count": 1
         }
        },
        {
         "dtype": "uint8",
         "name": "EDUCATION_6",
         "stats": {
          "histogram": [
           {
            "bin_end": -0.4,
            "bin_start": -0.5,
            "count": 0
           },
           {
            "bin_end": -0.3,
            "bin_start": -0.4,
            "count": 0
           },
           {
            "bin_end": -0.19999999999999996,
            "bin_start": -0.3,
            "count": 0
           },
           {
            "bin_end": -0.09999999999999998,
            "bin_start": -0.19999999999999996,
            "count": 0
           },
           {
            "bin_end": 0,
            "bin_start": -0.09999999999999998,
            "count": 0
           },
           {
            "bin_end": 0.10000000000000009,
            "bin_start": 0,
            "count": 5
           },
           {
            "bin_end": 0.20000000000000007,
            "bin_start": 0.10000000000000009,
            "count": 0
           },
           {
            "bin_end": 0.30000000000000004,
            "bin_start": 0.20000000000000007,
            "count": 0
           },
           {
            "bin_end": 0.4,
            "bin_start": 0.30000000000000004,
            "count": 0
           },
           {
            "bin_end": 0.5,
            "bin_start": 0.4,
            "count": 0
           }
          ],
          "max": 0,
          "min": 0,
          "nan_count": 0,
          "unique_count": 1
         }
        },
        {
         "dtype": "uint8",
         "name": "MARRIAGE_0",
         "stats": {
          "histogram": [
           {
            "bin_end": -0.4,
            "bin_start": -0.5,
            "count": 0
           },
           {
            "bin_end": -0.3,
            "bin_start": -0.4,
            "count": 0
           },
           {
            "bin_end": -0.19999999999999996,
            "bin_start": -0.3,
            "count": 0
           },
           {
            "bin_end": -0.09999999999999998,
            "bin_start": -0.19999999999999996,
            "count": 0
           },
           {
            "bin_end": 0,
            "bin_start": -0.09999999999999998,
            "count": 0
           },
           {
            "bin_end": 0.10000000000000009,
            "bin_start": 0,
            "count": 5
           },
           {
            "bin_end": 0.20000000000000007,
            "bin_start": 0.10000000000000009,
            "count": 0
           },
           {
            "bin_end": 0.30000000000000004,
            "bin_start": 0.20000000000000007,
            "count": 0
           },
           {
            "bin_end": 0.4,
            "bin_start": 0.30000000000000004,
            "count": 0
           },
           {
            "bin_end": 0.5,
            "bin_start": 0.4,
            "count": 0
           }
          ],
          "max": 0,
          "min": 0,
          "nan_count": 0,
          "unique_count": 1
         }
        },
        {
         "dtype": "uint8",
         "name": "MARRIAGE_1",
         "stats": {
          "histogram": [
           {
            "bin_end": 0.1,
            "bin_start": 0,
            "count": 2
           },
           {
            "bin_end": 0.2,
            "bin_start": 0.1,
            "count": 0
           },
           {
            "bin_end": 0.30000000000000004,
            "bin_start": 0.2,
            "count": 0
           },
           {
            "bin_end": 0.4,
            "bin_start": 0.30000000000000004,
            "count": 0
           },
           {
            "bin_end": 0.5,
            "bin_start": 0.4,
            "count": 0
           },
           {
            "bin_end": 0.6000000000000001,
            "bin_start": 0.5,
            "count": 0
           },
           {
            "bin_end": 0.7000000000000001,
            "bin_start": 0.6000000000000001,
            "count": 0
           },
           {
            "bin_end": 0.8,
            "bin_start": 0.7000000000000001,
            "count": 0
           },
           {
            "bin_end": 0.9,
            "bin_start": 0.8,
            "count": 0
           },
           {
            "bin_end": 1,
            "bin_start": 0.9,
            "count": 3
           }
          ],
          "max": 1,
          "min": 0,
          "nan_count": 0,
          "unique_count": 2
         }
        },
        {
         "dtype": "uint8",
         "name": "MARRIAGE_2",
         "stats": {
          "histogram": [
           {
            "bin_end": 0.1,
            "bin_start": 0,
            "count": 3
           },
           {
            "bin_end": 0.2,
            "bin_start": 0.1,
            "count": 0
           },
           {
            "bin_end": 0.30000000000000004,
            "bin_start": 0.2,
            "count": 0
           },
           {
            "bin_end": 0.4,
            "bin_start": 0.30000000000000004,
            "count": 0
           },
           {
            "bin_end": 0.5,
            "bin_start": 0.4,
            "count": 0
           },
           {
            "bin_end": 0.6000000000000001,
            "bin_start": 0.5,
            "count": 0
           },
           {
            "bin_end": 0.7000000000000001,
            "bin_start": 0.6000000000000001,
            "count": 0
           },
           {
            "bin_end": 0.8,
            "bin_start": 0.7000000000000001,
            "count": 0
           },
           {
            "bin_end": 0.9,
            "bin_start": 0.8,
            "count": 0
           },
           {
            "bin_end": 1,
            "bin_start": 0.9,
            "count": 2
           }
          ],
          "max": 1,
          "min": 0,
          "nan_count": 0,
          "unique_count": 2
         }
        },
        {
         "dtype": "uint8",
         "name": "MARRIAGE_3",
         "stats": {
          "histogram": [
           {
            "bin_end": -0.4,
            "bin_start": -0.5,
            "count": 0
           },
           {
            "bin_end": -0.3,
            "bin_start": -0.4,
            "count": 0
           },
           {
            "bin_end": -0.19999999999999996,
            "bin_start": -0.3,
            "count": 0
           },
           {
            "bin_end": -0.09999999999999998,
            "bin_start": -0.19999999999999996,
            "count": 0
           },
           {
            "bin_end": 0,
            "bin_start": -0.09999999999999998,
            "count": 0
           },
           {
            "bin_end": 0.10000000000000009,
            "bin_start": 0,
            "count": 5
           },
           {
            "bin_end": 0.20000000000000007,
            "bin_start": 0.10000000000000009,
            "count": 0
           },
           {
            "bin_end": 0.30000000000000004,
            "bin_start": 0.20000000000000007,
            "count": 0
           },
           {
            "bin_end": 0.4,
            "bin_start": 0.30000000000000004,
            "count": 0
           },
           {
            "bin_end": 0.5,
            "bin_start": 0.4,
            "count": 0
           }
          ],
          "max": 0,
          "min": 0,
          "nan_count": 0,
          "unique_count": 1
         }
        },
        {
         "dtype": "int64",
         "name": "_deepnote_index_column"
        }
       ],
       "row_count": 5,
       "rows_bottom": null,
       "rows_top": [
        {
         "AGE": 24,
         "BILL_AMT1": 3913,
         "BILL_AMT2": 3102,
         "BILL_AMT3": 689,
         "BILL_AMT4": 0,
         "BILL_AMT5": 0,
         "BILL_AMT6": 0,
         "EDUCATION_0": 0,
         "EDUCATION_1": 0,
         "EDUCATION_2": 1,
         "EDUCATION_3": 0,
         "EDUCATION_4": 0,
         "EDUCATION_5": 0,
         "EDUCATION_6": 0,
         "ID": 1,
         "LIMIT_BAL": 20000,
         "MARRIAGE_0": 0,
         "MARRIAGE_1": 1,
         "MARRIAGE_2": 0,
         "MARRIAGE_3": 0,
         "PAY_0": 2,
         "PAY_2": 2,
         "PAY_3": -1,
         "PAY_4": -1,
         "PAY_5": -2,
         "PAY_6": -2,
         "PAY_AMT1": 0,
         "PAY_AMT2": 689,
         "PAY_AMT3": 0,
         "PAY_AMT4": 0,
         "PAY_AMT5": 0,
         "PAY_AMT6": 0,
         "SEX_1": 0,
         "SEX_2": 1,
         "_deepnote_index_column": 0,
         "default.payment.next.month": 1
        },
        {
         "AGE": 26,
         "BILL_AMT1": 2682,
         "BILL_AMT2": 1725,
         "BILL_AMT3": 2682,
         "BILL_AMT4": 3272,
         "BILL_AMT5": 3455,
         "BILL_AMT6": 3261,
         "EDUCATION_0": 0,
         "EDUCATION_1": 0,
         "EDUCATION_2": 1,
         "EDUCATION_3": 0,
         "EDUCATION_4": 0,
         "EDUCATION_5": 0,
         "EDUCATION_6": 0,
         "ID": 2,
         "LIMIT_BAL": 120000,
         "MARRIAGE_0": 0,
         "MARRIAGE_1": 0,
         "MARRIAGE_2": 1,
         "MARRIAGE_3": 0,
         "PAY_0": -1,
         "PAY_2": 2,
         "PAY_3": 0,
         "PAY_4": 0,
         "PAY_5": 0,
         "PAY_6": 2,
         "PAY_AMT1": 0,
         "PAY_AMT2": 1000,
         "PAY_AMT3": 1000,
         "PAY_AMT4": 1000,
         "PAY_AMT5": 0,
         "PAY_AMT6": 2000,
         "SEX_1": 0,
         "SEX_2": 1,
         "_deepnote_index_column": 1,
         "default.payment.next.month": 1
        },
        {
         "AGE": 34,
         "BILL_AMT1": 29239,
         "BILL_AMT2": 14027,
         "BILL_AMT3": 13559,
         "BILL_AMT4": 14331,
         "BILL_AMT5": 14948,
         "BILL_AMT6": 15549,
         "EDUCATION_0": 0,
         "EDUCATION_1": 0,
         "EDUCATION_2": 1,
         "EDUCATION_3": 0,
         "EDUCATION_4": 0,
         "EDUCATION_5": 0,
         "EDUCATION_6": 0,
         "ID": 3,
         "LIMIT_BAL": 90000,
         "MARRIAGE_0": 0,
         "MARRIAGE_1": 0,
         "MARRIAGE_2": 1,
         "MARRIAGE_3": 0,
         "PAY_0": 0,
         "PAY_2": 0,
         "PAY_3": 0,
         "PAY_4": 0,
         "PAY_5": 0,
         "PAY_6": 0,
         "PAY_AMT1": 1518,
         "PAY_AMT2": 1500,
         "PAY_AMT3": 1000,
         "PAY_AMT4": 1000,
         "PAY_AMT5": 1000,
         "PAY_AMT6": 5000,
         "SEX_1": 0,
         "SEX_2": 1,
         "_deepnote_index_column": 2,
         "default.payment.next.month": 0
        },
        {
         "AGE": 37,
         "BILL_AMT1": 46990,
         "BILL_AMT2": 48233,
         "BILL_AMT3": 49291,
         "BILL_AMT4": 28314,
         "BILL_AMT5": 28959,
         "BILL_AMT6": 29547,
         "EDUCATION_0": 0,
         "EDUCATION_1": 0,
         "EDUCATION_2": 1,
         "EDUCATION_3": 0,
         "EDUCATION_4": 0,
         "EDUCATION_5": 0,
         "EDUCATION_6": 0,
         "ID": 4,
         "LIMIT_BAL": 50000,
         "MARRIAGE_0": 0,
         "MARRIAGE_1": 1,
         "MARRIAGE_2": 0,
         "MARRIAGE_3": 0,
         "PAY_0": 0,
         "PAY_2": 0,
         "PAY_3": 0,
         "PAY_4": 0,
         "PAY_5": 0,
         "PAY_6": 0,
         "PAY_AMT1": 2000,
         "PAY_AMT2": 2019,
         "PAY_AMT3": 1200,
         "PAY_AMT4": 1100,
         "PAY_AMT5": 1069,
         "PAY_AMT6": 1000,
         "SEX_1": 0,
         "SEX_2": 1,
         "_deepnote_index_column": 3,
         "default.payment.next.month": 0
        },
        {
         "AGE": 57,
         "BILL_AMT1": 8617,
         "BILL_AMT2": 5670,
         "BILL_AMT3": 35835,
         "BILL_AMT4": 20940,
         "BILL_AMT5": 19146,
         "BILL_AMT6": 19131,
         "EDUCATION_0": 0,
         "EDUCATION_1": 0,
         "EDUCATION_2": 1,
         "EDUCATION_3": 0,
         "EDUCATION_4": 0,
         "EDUCATION_5": 0,
         "EDUCATION_6": 0,
         "ID": 5,
         "LIMIT_BAL": 50000,
         "MARRIAGE_0": 0,
         "MARRIAGE_1": 1,
         "MARRIAGE_2": 0,
         "MARRIAGE_3": 0,
         "PAY_0": -1,
         "PAY_2": 0,
         "PAY_3": -1,
         "PAY_4": 0,
         "PAY_5": 0,
         "PAY_6": 0,
         "PAY_AMT1": 2000,
         "PAY_AMT2": 36681,
         "PAY_AMT3": 10000,
         "PAY_AMT4": 9000,
         "PAY_AMT5": 689,
         "PAY_AMT6": 679,
         "SEX_1": 1,
         "SEX_2": 0,
         "_deepnote_index_column": 4,
         "default.payment.next.month": 0
        }
       ]
      },
      "text/html": [
       "<div>\n",
       "<style scoped>\n",
       "    .dataframe tbody tr th:only-of-type {\n",
       "        vertical-align: middle;\n",
       "    }\n",
       "\n",
       "    .dataframe tbody tr th {\n",
       "        vertical-align: top;\n",
       "    }\n",
       "\n",
       "    .dataframe thead th {\n",
       "        text-align: right;\n",
       "    }\n",
       "</style>\n",
       "<table border=\"1\" class=\"dataframe\">\n",
       "  <thead>\n",
       "    <tr style=\"text-align: right;\">\n",
       "      <th></th>\n",
       "      <th>ID</th>\n",
       "      <th>LIMIT_BAL</th>\n",
       "      <th>AGE</th>\n",
       "      <th>PAY_0</th>\n",
       "      <th>PAY_2</th>\n",
       "      <th>PAY_3</th>\n",
       "      <th>PAY_4</th>\n",
       "      <th>PAY_5</th>\n",
       "      <th>PAY_6</th>\n",
       "      <th>BILL_AMT1</th>\n",
       "      <th>...</th>\n",
       "      <th>EDUCATION_1</th>\n",
       "      <th>EDUCATION_2</th>\n",
       "      <th>EDUCATION_3</th>\n",
       "      <th>EDUCATION_4</th>\n",
       "      <th>EDUCATION_5</th>\n",
       "      <th>EDUCATION_6</th>\n",
       "      <th>MARRIAGE_0</th>\n",
       "      <th>MARRIAGE_1</th>\n",
       "      <th>MARRIAGE_2</th>\n",
       "      <th>MARRIAGE_3</th>\n",
       "    </tr>\n",
       "  </thead>\n",
       "  <tbody>\n",
       "    <tr>\n",
       "      <th>0</th>\n",
       "      <td>1</td>\n",
       "      <td>20000.0</td>\n",
       "      <td>24</td>\n",
       "      <td>2</td>\n",
       "      <td>2</td>\n",
       "      <td>-1</td>\n",
       "      <td>-1</td>\n",
       "      <td>-2</td>\n",
       "      <td>-2</td>\n",
       "      <td>3913.0</td>\n",
       "      <td>...</td>\n",
       "      <td>0</td>\n",
       "      <td>1</td>\n",
       "      <td>0</td>\n",
       "      <td>0</td>\n",
       "      <td>0</td>\n",
       "      <td>0</td>\n",
       "      <td>0</td>\n",
       "      <td>1</td>\n",
       "      <td>0</td>\n",
       "      <td>0</td>\n",
       "    </tr>\n",
       "    <tr>\n",
       "      <th>1</th>\n",
       "      <td>2</td>\n",
       "      <td>120000.0</td>\n",
       "      <td>26</td>\n",
       "      <td>-1</td>\n",
       "      <td>2</td>\n",
       "      <td>0</td>\n",
       "      <td>0</td>\n",
       "      <td>0</td>\n",
       "      <td>2</td>\n",
       "      <td>2682.0</td>\n",
       "      <td>...</td>\n",
       "      <td>0</td>\n",
       "      <td>1</td>\n",
       "      <td>0</td>\n",
       "      <td>0</td>\n",
       "      <td>0</td>\n",
       "      <td>0</td>\n",
       "      <td>0</td>\n",
       "      <td>0</td>\n",
       "      <td>1</td>\n",
       "      <td>0</td>\n",
       "    </tr>\n",
       "    <tr>\n",
       "      <th>2</th>\n",
       "      <td>3</td>\n",
       "      <td>90000.0</td>\n",
       "      <td>34</td>\n",
       "      <td>0</td>\n",
       "      <td>0</td>\n",
       "      <td>0</td>\n",
       "      <td>0</td>\n",
       "      <td>0</td>\n",
       "      <td>0</td>\n",
       "      <td>29239.0</td>\n",
       "      <td>...</td>\n",
       "      <td>0</td>\n",
       "      <td>1</td>\n",
       "      <td>0</td>\n",
       "      <td>0</td>\n",
       "      <td>0</td>\n",
       "      <td>0</td>\n",
       "      <td>0</td>\n",
       "      <td>0</td>\n",
       "      <td>1</td>\n",
       "      <td>0</td>\n",
       "    </tr>\n",
       "    <tr>\n",
       "      <th>3</th>\n",
       "      <td>4</td>\n",
       "      <td>50000.0</td>\n",
       "      <td>37</td>\n",
       "      <td>0</td>\n",
       "      <td>0</td>\n",
       "      <td>0</td>\n",
       "      <td>0</td>\n",
       "      <td>0</td>\n",
       "      <td>0</td>\n",
       "      <td>46990.0</td>\n",
       "      <td>...</td>\n",
       "      <td>0</td>\n",
       "      <td>1</td>\n",
       "      <td>0</td>\n",
       "      <td>0</td>\n",
       "      <td>0</td>\n",
       "      <td>0</td>\n",
       "      <td>0</td>\n",
       "      <td>1</td>\n",
       "      <td>0</td>\n",
       "      <td>0</td>\n",
       "    </tr>\n",
       "    <tr>\n",
       "      <th>4</th>\n",
       "      <td>5</td>\n",
       "      <td>50000.0</td>\n",
       "      <td>57</td>\n",
       "      <td>-1</td>\n",
       "      <td>0</td>\n",
       "      <td>-1</td>\n",
       "      <td>0</td>\n",
       "      <td>0</td>\n",
       "      <td>0</td>\n",
       "      <td>8617.0</td>\n",
       "      <td>...</td>\n",
       "      <td>0</td>\n",
       "      <td>1</td>\n",
       "      <td>0</td>\n",
       "      <td>0</td>\n",
       "      <td>0</td>\n",
       "      <td>0</td>\n",
       "      <td>0</td>\n",
       "      <td>1</td>\n",
       "      <td>0</td>\n",
       "      <td>0</td>\n",
       "    </tr>\n",
       "  </tbody>\n",
       "</table>\n",
       "<p>5 rows × 35 columns</p>\n",
       "</div>"
      ],
      "text/plain": [
       "   ID  LIMIT_BAL  AGE  PAY_0  PAY_2  PAY_3  PAY_4  PAY_5  PAY_6  BILL_AMT1  \\\n",
       "0   1    20000.0   24      2      2     -1     -1     -2     -2     3913.0   \n",
       "1   2   120000.0   26     -1      2      0      0      0      2     2682.0   \n",
       "2   3    90000.0   34      0      0      0      0      0      0    29239.0   \n",
       "3   4    50000.0   37      0      0      0      0      0      0    46990.0   \n",
       "4   5    50000.0   57     -1      0     -1      0      0      0     8617.0   \n",
       "\n",
       "   ...  EDUCATION_1  EDUCATION_2  EDUCATION_3  EDUCATION_4  EDUCATION_5  \\\n",
       "0  ...            0            1            0            0            0   \n",
       "1  ...            0            1            0            0            0   \n",
       "2  ...            0            1            0            0            0   \n",
       "3  ...            0            1            0            0            0   \n",
       "4  ...            0            1            0            0            0   \n",
       "\n",
       "   EDUCATION_6  MARRIAGE_0  MARRIAGE_1  MARRIAGE_2  MARRIAGE_3  \n",
       "0            0           0           1           0           0  \n",
       "1            0           0           0           1           0  \n",
       "2            0           0           0           1           0  \n",
       "3            0           0           1           0           0  \n",
       "4            0           0           1           0           0  \n",
       "\n",
       "[5 rows x 35 columns]"
      ]
     },
     "execution_count": 7,
     "metadata": {},
     "output_type": "execute_result"
    }
   ],
   "source": [
    "cc= pd.get_dummies(cc, columns=['SEX','EDUCATION','MARRIAGE'])\n",
    "cc.head()"
   ]
  },
  {
   "cell_type": "code",
   "execution_count": null,
   "metadata": {
    "cell_id": "00007-dc35d548-1775-4b34-8ae9-853eba086f2d",
    "deepnote_cell_type": "code",
    "deepnote_to_be_reexecuted": false,
    "execution_millis": 0,
    "execution_start": 1609945690591,
    "source_hash": "7a67ed0f",
    "tags": []
   },
   "outputs": [],
   "source": [
    "target_name='default.payment.next.month'\n",
    "X= cc.drop('default.payment.next.month',axis=1)\n",
    "robust_scaler=RobustScaler()\n",
    "X=robust_scaler.fit_transform(X)\n",
    "y=cc[target_name]\n",
    "\n",
    "X_train, X_test, y_train, y_test = train_test_split(X, y, test_size=0.3, random_state=123)"
   ]
  },
  {
   "cell_type": "code",
   "execution_count": null,
   "metadata": {
    "cell_id": "00008-cfff41e0-4182-48fd-a249-de8b844cd75a",
    "deepnote_cell_type": "code",
    "deepnote_to_be_reexecuted": false,
    "execution_millis": 272,
    "execution_start": 1609861437918,
    "source_hash": "6bf12ce8",
    "tags": []
   },
   "outputs": [
    {
     "name": "stdout",
     "output_type": "stream",
     "text": [
      "train MAE :\n",
      " 0.3086361532407057\n",
      "\n",
      "train RMSE :\n",
      " 0.38925246669974456\n",
      "\n",
      "train R² :\n",
      " 0.12621110601117913\n",
      "\n",
      "train accuracy score :\n",
      " 0.7995714285714286\n",
      "\n",
      "train confusion matrix :\n",
      " [[16042   270]\n",
      " [ 3939   749]]\n",
      "\n",
      "test MAE :\n",
      " 0.3063616902304653\n",
      "\n",
      "test RMSE :\n",
      " 0.3862283835907427\n",
      "\n",
      "test R² :\n",
      " 0.12042650114108744\n",
      "\n",
      "test accuracy score :\n",
      " 0.8033333333333333\n",
      "\n",
      "test confusion matrix :\n",
      " [[6925  127]\n",
      " [1643  305]]\n"
     ]
    }
   ],
   "source": [
    "model_linear = LinearRegression()\n",
    "model_linear.fit(X_train, y_train)\n",
    "y_predict = model_linear.predict(X_train)\n",
    "print(\"train MAE :\\n\", mean_absolute_error(y_train, y_predict))\n",
    "print(\"\\ntrain RMSE :\\n\", sqrt(mean_squared_error(y_train, y_predict)))\n",
    "print(\"\\ntrain R² :\\n\", r2_score(y_train, y_predict))\n",
    "y_predict[y_predict < .5] = 0\n",
    "y_predict[y_predict >= .5] = 1\n",
    "print(\"\\ntrain accuracy score :\\n\", accuracy_score(y_train, y_predict))\n",
    "print(\"\\ntrain confusion matrix :\\n\", confusion_matrix(y_train, y_predict))\n",
    "y_predict = model_linear.predict(X_test)\n",
    "print(\"\\ntest MAE :\\n\", mean_absolute_error(y_test, y_predict))\n",
    "print(\"\\ntest RMSE :\\n\", sqrt(mean_squared_error(y_test, y_predict)))\n",
    "print(\"\\ntest R² :\\n\", r2_score(y_test, y_predict))\n",
    "y_predict[y_predict < .5] = 0\n",
    "y_predict[y_predict >= .5] = 1\n",
    "print(\"\\ntest accuracy score :\\n\", accuracy_score(y_test, y_predict))\n",
    "print(\"\\ntest confusion matrix :\\n\", confusion_matrix(y_test, y_predict))"
   ]
  },
  {
   "cell_type": "code",
   "execution_count": null,
   "metadata": {
    "cell_id": "00009-b578f145-889c-4766-8562-ec61fd7360ac",
    "deepnote_cell_type": "code",
    "deepnote_to_be_reexecuted": false,
    "execution_millis": 2918,
    "execution_start": 1609861424550,
    "source_hash": "e8791450",
    "tags": []
   },
   "outputs": [
    {
     "name": "stdout",
     "output_type": "stream",
     "text": [
      "train accuracy score :\n",
      " 0.8111428571428572\n",
      "\n",
      "train confusion matrix :\n",
      " [[15875   437]\n",
      " [ 3529  1159]]\n",
      "\n",
      "test accuracy score :\n",
      " 0.8136666666666666\n",
      "\n",
      "test confusion matrix :\n",
      " [[6844  208]\n",
      " [1469  479]]\n"
     ]
    }
   ],
   "source": [
    "model_logistic = LogisticRegression(max_iter=1000)\n",
    "model_logistic.fit(X_train, y_train)\n",
    "y_predict = model_logistic.predict(X_train)\n",
    "print(\"train accuracy score :\\n\", accuracy_score(y_train, y_predict))\n",
    "print(\"\\ntrain confusion matrix :\\n\", confusion_matrix(y_train, y_predict))\n",
    "y_predict = model_logistic.predict(X_test)\n",
    "print(\"\\ntest accuracy score :\\n\", accuracy_score(y_test, y_predict))\n",
    "print(\"\\ntest confusion matrix :\\n\", confusion_matrix(y_test, y_predict))"
   ]
  },
  {
   "cell_type": "code",
   "execution_count": null,
   "metadata": {
    "cell_id": "00011-6e39e756-aa4d-4239-ab37-611cd89e42d6",
    "deepnote_cell_type": "code",
    "deepnote_to_be_reexecuted": false,
    "execution_millis": 44817,
    "execution_start": 1609861461202,
    "source_hash": "a5c45bd9",
    "tags": []
   },
   "outputs": [
    {
     "name": "stdout",
     "output_type": "stream",
     "text": [
      "train MAE :\n",
      " 0.24099756253859134\n",
      "\n",
      "train RMSE :\n",
      " 0.38027271001401386\n",
      "\n",
      "train R² :\n",
      " 0.16606136756825496\n",
      "\n",
      "train accuracy score :\n",
      " 0.8203809523809524\n",
      "\n",
      "train confusion matrix :\n",
      " [[15665   647]\n",
      " [ 3125  1563]]\n",
      "\n",
      "test MAE :\n",
      " 0.24572092631756848\n",
      "\n",
      "test RMSE :\n",
      " 0.3833512937135889\n",
      "\n",
      "test R² :\n",
      " 0.13348191916790142\n",
      "\n",
      "test accuracy score :\n",
      " 0.8191111111111111\n",
      "\n",
      "test confusion matrix :\n",
      " [[6745  307]\n",
      " [1321  627]]\n"
     ]
    }
   ],
   "source": [
    "model_svr = svm.SVR()\n",
    "model_svr.fit(X_train, y_train)\n",
    "y_predict = model_svr.predict(X_train)\n",
    "print(\"train MAE :\\n\", mean_absolute_error(y_train, y_predict))\n",
    "print(\"\\ntrain RMSE :\\n\", sqrt(mean_squared_error(y_train, y_predict)))\n",
    "print(\"\\ntrain R² :\\n\", r2_score(y_train, y_predict))\n",
    "y_predict[y_predict < .5] = 0\n",
    "y_predict[y_predict >= .5] = 1\n",
    "print(\"\\ntrain accuracy score :\\n\", accuracy_score(y_train, y_predict))\n",
    "print(\"\\ntrain confusion matrix :\\n\", confusion_matrix(y_train, y_predict))\n",
    "y_predict = model_svr.predict(X_test)\n",
    "print(\"\\ntest MAE :\\n\", mean_absolute_error(y_test, y_predict))\n",
    "print(\"\\ntest RMSE :\\n\", sqrt(mean_squared_error(y_test, y_predict)))\n",
    "print(\"\\ntest R² :\\n\", r2_score(y_test, y_predict))\n",
    "y_predict[y_predict < .5] = 0\n",
    "y_predict[y_predict >= .5] = 1\n",
    "print(\"\\ntest accuracy score :\\n\", accuracy_score(y_test, y_predict))\n",
    "print(\"\\ntest confusion matrix :\\n\", confusion_matrix(y_test, y_predict))"
   ]
  },
  {
   "cell_type": "code",
   "execution_count": null,
   "metadata": {
    "cell_id": "00012-034b8626-baf1-43b4-989e-e3f8fc0b3844",
    "deepnote_cell_type": "code",
    "deepnote_to_be_reexecuted": false,
    "execution_millis": 1450,
    "execution_start": 1609862721636,
    "source_hash": "dc9178bc",
    "tags": []
   },
   "outputs": [
    {
     "name": "stdout",
     "output_type": "stream",
     "text": [
      "train accuracy score :\n",
      " 0.8079047619047619\n",
      "\n",
      "train confusion matrix :\n",
      " [[15846   466]\n",
      " [ 3568  1120]]\n",
      "\n",
      "test accuracy score :\n",
      " 0.8077777777777778\n",
      "\n",
      "test confusion matrix :\n",
      " [[6823  229]\n",
      " [1501  447]]\n"
     ]
    }
   ],
   "source": [
    "model_rf = RandomForestClassifier(n_estimators = 100, max_depth=3)\n",
    "model_rf.fit(X_train, y_train)\n",
    "y_predict = model_rf.predict(X_train)\n",
    "print(\"train accuracy score :\\n\", accuracy_score(y_train, y_predict))\n",
    "print(\"\\ntrain confusion matrix :\\n\", confusion_matrix(y_train, y_predict))\n",
    "y_predict = model_rf.predict(X_test)\n",
    "print(\"\\ntest accuracy score :\\n\", accuracy_score(y_test, y_predict))\n",
    "print(\"\\ntest confusion matrix :\\n\", confusion_matrix(y_test, y_predict))"
   ]
  },
  {
   "cell_type": "code",
   "execution_count": null,
   "metadata": {
    "cell_id": "00013-903af7e7-8600-46d8-87b7-eaa45ae5ae3c",
    "deepnote_cell_type": "code",
    "deepnote_to_be_reexecuted": false,
    "execution_millis": 4918,
    "execution_start": 1609863053074,
    "source_hash": "d1c6e9a7",
    "tags": []
   },
   "outputs": [],
   "source": [
    "tree = model_rf.estimators_[5]\n",
    "export_graphviz(tree, out_file = 'tree4.dot', feature_names = cc.drop('default.payment.next.month',axis=1).columns, rounded = True, precision = 1)\n",
    "(graph, ) = pydot.graph_from_dot_file('tree4.dot')\n",
    "graph.write_png('tree4.png')"
   ]
  },
  {
   "cell_type": "code",
   "execution_count": null,
   "metadata": {
    "cell_id": "00014-b59e214f-bba5-4c0f-8732-25d767d5e372",
    "deepnote_cell_type": "code",
    "deepnote_to_be_reexecuted": false,
    "execution_millis": 2002,
    "execution_start": 1609862708196,
    "source_hash": "a111660d",
    "tags": []
   },
   "outputs": [
    {
     "name": "stdout",
     "output_type": "stream",
     "text": [
      "train accuracy score :\n",
      " 0.816047619047619\n",
      "\n",
      "train confusion matrix :\n",
      " [[15740   572]\n",
      " [ 3291  1397]]\n",
      "\n",
      "test accuracy score :\n",
      " 0.8144444444444444\n",
      "\n",
      "test confusion matrix :\n",
      " [[6776  276]\n",
      " [1394  554]]\n"
     ]
    }
   ],
   "source": [
    "model_rf = RandomForestClassifier(n_estimators = 100, max_depth=5)\n",
    "model_rf.fit(X_train, y_train)\n",
    "y_predict = model_rf.predict(X_train)\n",
    "print(\"train accuracy score :\\n\", accuracy_score(y_train, y_predict))\n",
    "print(\"\\ntrain confusion matrix :\\n\", confusion_matrix(y_train, y_predict))\n",
    "y_predict = model_rf.predict(X_test)\n",
    "print(\"\\ntest accuracy score :\\n\", accuracy_score(y_test, y_predict))\n",
    "print(\"\\ntest confusion matrix :\\n\", confusion_matrix(y_test, y_predict))"
   ]
  },
  {
   "cell_type": "code",
   "execution_count": null,
   "metadata": {
    "cell_id": "00016-674ac9ff-e3f2-4758-ab02-f9cdef1065e8",
    "deepnote_cell_type": "code",
    "deepnote_to_be_reexecuted": false,
    "execution_millis": 2555,
    "execution_start": 1609862701935,
    "source_hash": "136afc3d",
    "tags": []
   },
   "outputs": [
    {
     "name": "stdout",
     "output_type": "stream",
     "text": [
      "train accuracy score :\n",
      " 0.8325238095238096\n",
      "\n",
      "train confusion matrix :\n",
      " [[15696   616]\n",
      " [ 2901  1787]]\n",
      "\n",
      "test accuracy score :\n",
      " 0.8202222222222222\n",
      "\n",
      "test confusion matrix :\n",
      " [[6692  360]\n",
      " [1258  690]]\n"
     ]
    }
   ],
   "source": [
    "model_rf = RandomForestClassifier(n_estimators = 100, max_depth=7)\n",
    "model_rf.fit(X_train, y_train)\n",
    "y_predict = model_rf.predict(X_train)\n",
    "print(\"train accuracy score :\\n\", accuracy_score(y_train, y_predict))\n",
    "print(\"\\ntrain confusion matrix :\\n\", confusion_matrix(y_train, y_predict))\n",
    "y_predict = model_rf.predict(X_test)\n",
    "print(\"\\ntest accuracy score :\\n\", accuracy_score(y_test, y_predict))\n",
    "print(\"\\ntest confusion matrix :\\n\", confusion_matrix(y_test, y_predict))"
   ]
  },
  {
   "cell_type": "code",
   "execution_count": null,
   "metadata": {
    "cell_id": "00017-f1dba35c-13ea-48df-84e6-dbf6a8f7969b",
    "deepnote_cell_type": "code",
    "deepnote_to_be_reexecuted": false,
    "execution_millis": 30538,
    "execution_start": 1609863214407,
    "source_hash": "b99ea5d9",
    "tags": []
   },
   "outputs": [
    {
     "name": "stdout",
     "output_type": "stream",
     "text": [
      "train accuracy score :\n",
      " 0.8508571428571429\n",
      "\n",
      "train confusion matrix :\n",
      " [[15860   452]\n",
      " [ 2680  2008]]\n",
      "\n",
      "test accuracy score :\n",
      " 0.8224444444444444\n",
      "\n",
      "test confusion matrix :\n",
      " [[6698  354]\n",
      " [1244  704]]\n"
     ]
    }
   ],
   "source": [
    "model_rf = RandomForestClassifier(n_estimators = 1000, max_depth=9)\n",
    "model_rf.fit(X_train, y_train)\n",
    "y_predict = model_rf.predict(X_train)\n",
    "print(\"train accuracy score :\\n\", accuracy_score(y_train, y_predict))\n",
    "print(\"\\ntrain confusion matrix :\\n\", confusion_matrix(y_train, y_predict))\n",
    "y_predict = model_rf.predict(X_test)\n",
    "print(\"\\ntest accuracy score :\\n\", accuracy_score(y_test, y_predict))\n",
    "print(\"\\ntest confusion matrix :\\n\", confusion_matrix(y_test, y_predict))"
   ]
  },
  {
   "cell_type": "code",
   "execution_count": null,
   "metadata": {
    "cell_id": "00017-721f51f8-3dac-45d9-93de-293233796bbe",
    "deepnote_cell_type": "code",
    "deepnote_to_be_reexecuted": false,
    "execution_millis": 21314,
    "execution_start": 1609866659955,
    "source_hash": "3313cc7f",
    "tags": []
   },
   "outputs": [
    {
     "name": "stderr",
     "output_type": "stream",
     "text": [
      "/opt/venv/lib/python3.7/site-packages/sklearn/neural_network/_multilayer_perceptron.py:471: ConvergenceWarning: lbfgs failed to converge (status=1):\n",
      "STOP: TOTAL NO. of ITERATIONS REACHED LIMIT.\n",
      "\n",
      "Increase the number of iterations (max_iter) or scale the data as shown in:\n",
      "    https://scikit-learn.org/stable/modules/preprocessing.html\n",
      "  self.n_iter_ = _check_optimize_result(\"lbfgs\", opt_res, self.max_iter)\n",
      "train accuracy score :\n",
      " 0.8239047619047619\n",
      "\n",
      "train confusion matrix :\n",
      " [[15430   882]\n",
      " [ 2816  1872]]\n",
      "\n",
      "test accuracy score :\n",
      " 0.8183333333333334\n",
      "\n",
      "test confusion matrix :\n",
      " [[6613  439]\n",
      " [1196  752]]\n"
     ]
    }
   ],
   "source": [
    "model_clf = MLPClassifier(solver='lbfgs', alpha=0.001, hidden_layer_sizes=(150, 50, 2), max_iter=50)\n",
    "model_clf.fit(X_train, y_train)\n",
    "model_clf.predict(X_test)\n",
    "y_predict = model_clf.predict(X_train)\n",
    "print(\"train accuracy score :\\n\", accuracy_score(y_train, y_predict))\n",
    "print(\"\\ntrain confusion matrix :\\n\", confusion_matrix(y_train, y_predict))\n",
    "y_predict = model_clf.predict(X_test)\n",
    "print(\"\\ntest accuracy score :\\n\", accuracy_score(y_test, y_predict))\n",
    "print(\"\\ntest confusion matrix :\\n\", confusion_matrix(y_test, y_predict))"
   ]
  },
  {
   "cell_type": "code",
   "execution_count": null,
   "metadata": {
    "cell_id": "00017-cd923c11-f500-4f41-a941-010a11e73d97",
    "deepnote_cell_type": "code",
    "deepnote_to_be_reexecuted": false,
    "execution_millis": 33,
    "execution_start": 1609945848785,
    "source_hash": "f32b4dc5",
    "tags": []
   },
   "outputs": [
    {
     "name": "stdout",
     "output_type": "stream",
     "text": [
      "(21000, 2)\n"
     ]
    },
    {
     "ename": "ValueError",
     "evalue": "Data cardinality is ambiguous:\n  x sizes: 21000\n  y sizes: 2\nMake sure all arrays contain the same number of samples.",
     "output_type": "error",
     "traceback": [
      "\u001b[0;31m---------------------------------------------------------------------------\u001b[0m",
      "\u001b[0;31mValueError\u001b[0m                                Traceback (most recent call last)",
      "\u001b[0;32m<ipython-input-10-c48edc64caa7>\u001b[0m in \u001b[0;36m<module>\u001b[0;34m\u001b[0m\n\u001b[1;32m      7\u001b[0m \u001b[0mmodel_NN\u001b[0m\u001b[0;34m.\u001b[0m\u001b[0mcompile\u001b[0m\u001b[0;34m(\u001b[0m\u001b[0moptimizer\u001b[0m \u001b[0;34m=\u001b[0m \u001b[0;34m'sgd'\u001b[0m\u001b[0;34m,\u001b[0m \u001b[0mloss\u001b[0m \u001b[0;34m=\u001b[0m \u001b[0;34m\"sparse_categorical_crossentropy\"\u001b[0m\u001b[0;34m)\u001b[0m\u001b[0;34m\u001b[0m\u001b[0;34m\u001b[0m\u001b[0m\n\u001b[1;32m      8\u001b[0m \u001b[0mprint\u001b[0m\u001b[0;34m(\u001b[0m\u001b[0my_train_dummies\u001b[0m\u001b[0;34m.\u001b[0m\u001b[0mshape\u001b[0m\u001b[0;34m)\u001b[0m\u001b[0;34m\u001b[0m\u001b[0;34m\u001b[0m\u001b[0m\n\u001b[0;32m----> 9\u001b[0;31m \u001b[0mmodel_NN\u001b[0m\u001b[0;34m.\u001b[0m\u001b[0mfit\u001b[0m\u001b[0;34m(\u001b[0m\u001b[0mX_train\u001b[0m\u001b[0;34m,\u001b[0m \u001b[0my_train_dummies\u001b[0m\u001b[0;34m.\u001b[0m\u001b[0mT\u001b[0m\u001b[0;34m,\u001b[0m \u001b[0mepochs\u001b[0m\u001b[0;34m=\u001b[0m\u001b[0;36m5\u001b[0m\u001b[0;34m)\u001b[0m\u001b[0;34m\u001b[0m\u001b[0;34m\u001b[0m\u001b[0m\n\u001b[0m\u001b[1;32m     10\u001b[0m \u001b[0my_predict\u001b[0m \u001b[0;34m=\u001b[0m \u001b[0mmodel_NN\u001b[0m\u001b[0;34m.\u001b[0m\u001b[0mpredict\u001b[0m\u001b[0;34m(\u001b[0m\u001b[0mX_train\u001b[0m\u001b[0;34m)\u001b[0m\u001b[0;34m\u001b[0m\u001b[0;34m\u001b[0m\u001b[0m\n\u001b[1;32m     11\u001b[0m \u001b[0mprint\u001b[0m\u001b[0;34m(\u001b[0m\u001b[0;34m\"train accuracy score :\\n\"\u001b[0m\u001b[0;34m,\u001b[0m \u001b[0maccuracy_score\u001b[0m\u001b[0;34m(\u001b[0m\u001b[0my_train_dummies\u001b[0m\u001b[0;34m,\u001b[0m \u001b[0my_predict\u001b[0m\u001b[0;34m)\u001b[0m\u001b[0;34m)\u001b[0m\u001b[0;34m\u001b[0m\u001b[0;34m\u001b[0m\u001b[0m\n",
      "\u001b[0;32m/shared-libs/python3.7/py/lib/python3.7/site-packages/tensorflow/python/keras/engine/training.py\u001b[0m in \u001b[0;36mfit\u001b[0;34m(self, x, y, batch_size, epochs, verbose, callbacks, validation_split, validation_data, shuffle, class_weight, sample_weight, initial_epoch, steps_per_epoch, validation_steps, validation_batch_size, validation_freq, max_queue_size, workers, use_multiprocessing)\u001b[0m\n\u001b[1;32m   1062\u001b[0m           \u001b[0muse_multiprocessing\u001b[0m\u001b[0;34m=\u001b[0m\u001b[0muse_multiprocessing\u001b[0m\u001b[0;34m,\u001b[0m\u001b[0;34m\u001b[0m\u001b[0;34m\u001b[0m\u001b[0m\n\u001b[1;32m   1063\u001b[0m           \u001b[0mmodel\u001b[0m\u001b[0;34m=\u001b[0m\u001b[0mself\u001b[0m\u001b[0;34m,\u001b[0m\u001b[0;34m\u001b[0m\u001b[0;34m\u001b[0m\u001b[0m\n\u001b[0;32m-> 1064\u001b[0;31m           steps_per_execution=self._steps_per_execution)\n\u001b[0m\u001b[1;32m   1065\u001b[0m \u001b[0;34m\u001b[0m\u001b[0m\n\u001b[1;32m   1066\u001b[0m       \u001b[0;31m# Container that configures and calls `tf.keras.Callback`s.\u001b[0m\u001b[0;34m\u001b[0m\u001b[0;34m\u001b[0m\u001b[0;34m\u001b[0m\u001b[0m\n",
      "\u001b[0;32m/shared-libs/python3.7/py/lib/python3.7/site-packages/tensorflow/python/keras/engine/data_adapter.py\u001b[0m in \u001b[0;36m__init__\u001b[0;34m(self, x, y, sample_weight, batch_size, steps_per_epoch, initial_epoch, epochs, shuffle, class_weight, max_queue_size, workers, use_multiprocessing, model, steps_per_execution)\u001b[0m\n\u001b[1;32m   1110\u001b[0m         \u001b[0muse_multiprocessing\u001b[0m\u001b[0;34m=\u001b[0m\u001b[0muse_multiprocessing\u001b[0m\u001b[0;34m,\u001b[0m\u001b[0;34m\u001b[0m\u001b[0;34m\u001b[0m\u001b[0m\n\u001b[1;32m   1111\u001b[0m         \u001b[0mdistribution_strategy\u001b[0m\u001b[0;34m=\u001b[0m\u001b[0mds_context\u001b[0m\u001b[0;34m.\u001b[0m\u001b[0mget_strategy\u001b[0m\u001b[0;34m(\u001b[0m\u001b[0;34m)\u001b[0m\u001b[0;34m,\u001b[0m\u001b[0;34m\u001b[0m\u001b[0;34m\u001b[0m\u001b[0m\n\u001b[0;32m-> 1112\u001b[0;31m         model=model)\n\u001b[0m\u001b[1;32m   1113\u001b[0m \u001b[0;34m\u001b[0m\u001b[0m\n\u001b[1;32m   1114\u001b[0m     \u001b[0mstrategy\u001b[0m \u001b[0;34m=\u001b[0m \u001b[0mds_context\u001b[0m\u001b[0;34m.\u001b[0m\u001b[0mget_strategy\u001b[0m\u001b[0;34m(\u001b[0m\u001b[0;34m)\u001b[0m\u001b[0;34m\u001b[0m\u001b[0;34m\u001b[0m\u001b[0m\n",
      "\u001b[0;32m/shared-libs/python3.7/py/lib/python3.7/site-packages/tensorflow/python/keras/engine/data_adapter.py\u001b[0m in \u001b[0;36m__init__\u001b[0;34m(self, x, y, sample_weights, sample_weight_modes, batch_size, epochs, steps, shuffle, **kwargs)\u001b[0m\n\u001b[1;32m    272\u001b[0m \u001b[0;34m\u001b[0m\u001b[0m\n\u001b[1;32m    273\u001b[0m     \u001b[0mnum_samples\u001b[0m \u001b[0;34m=\u001b[0m \u001b[0mset\u001b[0m\u001b[0;34m(\u001b[0m\u001b[0mint\u001b[0m\u001b[0;34m(\u001b[0m\u001b[0mi\u001b[0m\u001b[0;34m.\u001b[0m\u001b[0mshape\u001b[0m\u001b[0;34m[\u001b[0m\u001b[0;36m0\u001b[0m\u001b[0;34m]\u001b[0m\u001b[0;34m)\u001b[0m \u001b[0;32mfor\u001b[0m \u001b[0mi\u001b[0m \u001b[0;32min\u001b[0m \u001b[0mnest\u001b[0m\u001b[0;34m.\u001b[0m\u001b[0mflatten\u001b[0m\u001b[0;34m(\u001b[0m\u001b[0minputs\u001b[0m\u001b[0;34m)\u001b[0m\u001b[0;34m)\u001b[0m\u001b[0;34m.\u001b[0m\u001b[0mpop\u001b[0m\u001b[0;34m(\u001b[0m\u001b[0;34m)\u001b[0m\u001b[0;34m\u001b[0m\u001b[0;34m\u001b[0m\u001b[0m\n\u001b[0;32m--> 274\u001b[0;31m     \u001b[0m_check_data_cardinality\u001b[0m\u001b[0;34m(\u001b[0m\u001b[0minputs\u001b[0m\u001b[0;34m)\u001b[0m\u001b[0;34m\u001b[0m\u001b[0;34m\u001b[0m\u001b[0m\n\u001b[0m\u001b[1;32m    275\u001b[0m \u001b[0;34m\u001b[0m\u001b[0m\n\u001b[1;32m    276\u001b[0m     \u001b[0;31m# If batch_size is not passed but steps is, calculate from the input data.\u001b[0m\u001b[0;34m\u001b[0m\u001b[0;34m\u001b[0m\u001b[0;34m\u001b[0m\u001b[0m\n",
      "\u001b[0;32m/shared-libs/python3.7/py/lib/python3.7/site-packages/tensorflow/python/keras/engine/data_adapter.py\u001b[0m in \u001b[0;36m_check_data_cardinality\u001b[0;34m(data)\u001b[0m\n\u001b[1;32m   1527\u001b[0m           label, \", \".join(str(i.shape[0]) for i in nest.flatten(single_data)))\n\u001b[1;32m   1528\u001b[0m     \u001b[0mmsg\u001b[0m \u001b[0;34m+=\u001b[0m \u001b[0;34m\"Make sure all arrays contain the same number of samples.\"\u001b[0m\u001b[0;34m\u001b[0m\u001b[0;34m\u001b[0m\u001b[0m\n\u001b[0;32m-> 1529\u001b[0;31m     \u001b[0;32mraise\u001b[0m \u001b[0mValueError\u001b[0m\u001b[0;34m(\u001b[0m\u001b[0mmsg\u001b[0m\u001b[0;34m)\u001b[0m\u001b[0;34m\u001b[0m\u001b[0;34m\u001b[0m\u001b[0m\n\u001b[0m\u001b[1;32m   1530\u001b[0m \u001b[0;34m\u001b[0m\u001b[0m\n\u001b[1;32m   1531\u001b[0m \u001b[0;34m\u001b[0m\u001b[0m\n",
      "\u001b[0;31mValueError\u001b[0m: Data cardinality is ambiguous:\n  x sizes: 21000\n  y sizes: 2\nMake sure all arrays contain the same number of samples."
     ]
    }
   ],
   "source": [
    "y_train_dummies = np.array(pd.get_dummies(y_train).values)\n",
    "y_test_dummies = np.array(pd.get_dummies(y_test).values)\n",
    "model_NN = Sequential()\n",
    "model_NN.add(Dense(units = 400, activation = 'relu'))\n",
    "model_NN.add(Dense(units = 100, activation = 'relu'))\n",
    "model_NN.add(Dense(units = 2, activation = 'softmax'))\n",
    "model_NN.compile(optimizer = 'sgd', loss = \"sparse_categorical_crossentropy\")\n",
    "print(y_train_dummies.shape)\n",
    "model_NN.fit(X_train, y_train_dummies.T, epochs=5)\n",
    "y_predict = model_NN.predict(X_train)\n",
    "print(\"train accuracy score :\\n\", accuracy_score(y_train_dummies, y_predict))\n",
    "print(\"\\ntrain confusion matrix :\\n\", confusion_matrix(y_train_dummies, y_predict))\n",
    "y_predict = model_NN.predict(X_test)\n",
    "print(\"\\ntest accuracy score :\\n\", accuracy_score(y_test_dummies, y_predict))\n",
    "print(\"\\ntest confusion matrix :\\n\", confusion_matrix(y_test_dummies, y_predict))"
   ]
  },
  {
   "cell_type": "code",
   "execution_count": null,
   "metadata": {
    "cell_id": "00019-53e7c26f-b708-40ab-955d-c186a6d3e972",
    "deepnote_cell_type": "code",
    "tags": []
   },
   "outputs": [],
   "source": []
  }
 ],
 "metadata": {
  "deepnote_execution_queue": [],
  "deepnote_notebook_id": "b61026e0-f777-44ce-920f-08ede02e75d3",
  "kernelspec": {
   "display_name": "Python 3",
   "language": "python",
   "name": "python3"
  },
  "language_info": {
   "codemirror_mode": {
    "name": "ipython",
    "version": 3
   },
   "file_extension": ".py",
   "mimetype": "text/x-python",
   "name": "python",
   "nbconvert_exporter": "python",
   "pygments_lexer": "ipython3",
   "version": "3.8.5"
  }
 },
 "nbformat": 4,
 "nbformat_minor": 2
}
